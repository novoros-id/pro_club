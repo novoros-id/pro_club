{
 "cells": [
  {
   "cell_type": "code",
   "execution_count": 1,
   "id": "a82f0117",
   "metadata": {},
   "outputs": [],
   "source": [
    "from langchain_ollama import OllamaLLM\n",
    "from langchain.callbacks.manager import CallbackManager\n",
    "from langchain.callbacks.streaming_stdout import StreamingStdOutCallbackHandler\n",
    "from langchain import PromptTemplate"
   ]
  },
  {
   "cell_type": "code",
   "execution_count": 2,
   "id": "c31b201a",
   "metadata": {},
   "outputs": [],
   "source": [
    "from langchain.schema import HumanMessage"
   ]
  },
  {
   "cell_type": "code",
   "execution_count": 3,
   "id": "216be451",
   "metadata": {},
   "outputs": [],
   "source": [
    "llm = OllamaLLM(\n",
    "    model=\"llama3\", callback_manager=CallbackManager([StreamingStdOutCallbackHandler()]), temperature = \"0.1\"\n",
    ")"
   ]
  },
  {
   "cell_type": "code",
   "execution_count": 16,
   "id": "3683fd9e",
   "metadata": {},
   "outputs": [
    {
     "name": "stderr",
     "output_type": "stream",
     "text": [
      "Ignoring wrong pointing object 6 0 (offset 0)\n",
      "Ignoring wrong pointing object 8 0 (offset 0)\n",
      "Ignoring wrong pointing object 10 0 (offset 0)\n",
      "Ignoring wrong pointing object 12 0 (offset 0)\n",
      "Ignoring wrong pointing object 14 0 (offset 0)\n",
      "Ignoring wrong pointing object 16 0 (offset 0)\n",
      "Ignoring wrong pointing object 18 0 (offset 0)\n",
      "Ignoring wrong pointing object 27 0 (offset 0)\n",
      "Ignoring wrong pointing object 29 0 (offset 0)\n",
      "Ignoring wrong pointing object 31 0 (offset 0)\n",
      "Ignoring wrong pointing object 34 0 (offset 0)\n",
      "Ignoring wrong pointing object 36 0 (offset 0)\n",
      "Ignoring wrong pointing object 43 0 (offset 0)\n",
      "Ignoring wrong pointing object 45 0 (offset 0)\n",
      "Ignoring wrong pointing object 49 0 (offset 0)\n",
      "Ignoring wrong pointing object 53 0 (offset 0)\n",
      "Ignoring wrong pointing object 64 0 (offset 0)\n",
      "Ignoring wrong pointing object 67 0 (offset 0)\n",
      "Ignoring wrong pointing object 78 0 (offset 0)\n",
      "Ignoring wrong pointing object 80 0 (offset 0)\n",
      "Ignoring wrong pointing object 83 0 (offset 0)\n",
      "Ignoring wrong pointing object 84 0 (offset 0)\n",
      "Ignoring wrong pointing object 87 0 (offset 0)\n",
      "Ignoring wrong pointing object 89 0 (offset 0)\n",
      "Ignoring wrong pointing object 91 0 (offset 0)\n",
      "Ignoring wrong pointing object 92 0 (offset 0)\n",
      "Ignoring wrong pointing object 96 0 (offset 0)\n",
      "Ignoring wrong pointing object 98 0 (offset 0)\n",
      "Ignoring wrong pointing object 100 0 (offset 0)\n",
      "Ignoring wrong pointing object 102 0 (offset 0)\n",
      "Ignoring wrong pointing object 104 0 (offset 0)\n",
      "Ignoring wrong pointing object 106 0 (offset 0)\n",
      "Ignoring wrong pointing object 108 0 (offset 0)\n",
      "Ignoring wrong pointing object 110 0 (offset 0)\n",
      "Ignoring wrong pointing object 112 0 (offset 0)\n",
      "Ignoring wrong pointing object 114 0 (offset 0)\n",
      "Ignoring wrong pointing object 116 0 (offset 0)\n",
      "Ignoring wrong pointing object 118 0 (offset 0)\n",
      "Ignoring wrong pointing object 120 0 (offset 0)\n",
      "Ignoring wrong pointing object 122 0 (offset 0)\n",
      "Ignoring wrong pointing object 124 0 (offset 0)\n",
      "Ignoring wrong pointing object 126 0 (offset 0)\n",
      "Ignoring wrong pointing object 128 0 (offset 0)\n",
      "Ignoring wrong pointing object 130 0 (offset 0)\n",
      "Ignoring wrong pointing object 132 0 (offset 0)\n",
      "Ignoring wrong pointing object 134 0 (offset 0)\n",
      "Ignoring wrong pointing object 136 0 (offset 0)\n",
      "Ignoring wrong pointing object 138 0 (offset 0)\n",
      "Ignoring wrong pointing object 140 0 (offset 0)\n",
      "Ignoring wrong pointing object 202 0 (offset 0)\n",
      "Ignoring wrong pointing object 208 0 (offset 0)\n",
      "Ignoring wrong pointing object 210 0 (offset 0)\n",
      "Ignoring wrong pointing object 268 0 (offset 0)\n"
     ]
    },
    {
     "name": "stdout",
     "output_type": "stream",
     "text": [
      "Total documents: 74\n"
     ]
    }
   ],
   "source": [
    "#Загрузка библиотек. Если не хватает библиотеки, то гуглить но почти всегда спасает pip install имя_пакета\n",
    "from langchain.document_loaders import PyPDFLoader\n",
    "from langchain.document_loaders import PyPDFDirectoryLoader\n",
    "\n",
    "from langchain.text_splitter import (\n",
    "    RecursiveCharacterTextSplitter,\n",
    ")\n",
    "from chromadb.config import Settings\n",
    "from langchain.vectorstores import Chroma\n",
    "\n",
    "#from langchain.embeddings  import HuggingFaceEmbeddings\n",
    "from langchain_huggingface import HuggingFaceEmbeddings\n",
    "\n",
    "# Загрузка файла pdf\n",
    "loader = PyPDFLoader(\"/Users/alexeyvaganov/doc/Работа/Технология_корпоративного_внедрения/Организационная структура/Руководство по управлению проектами Часть 3 Организационная структура ТKV-0-001 v2.3.pdf\")\n",
    "documents = loader.load()\n",
    "\n",
    "#loader = PyPDFDirectoryLoader(\"/Users/alexeyvaganov/doc/Работа/ИТ Практика/tz_arenda_pdf/\")\n",
    "#documents = loader.load()\n",
    "\n",
    "# Определения принципа деления текста на части\n",
    "text_splitter = RecursiveCharacterTextSplitter(\n",
    "    chunk_size=1000,\n",
    "    chunk_overlap=200,\n",
    ")\n",
    "\n",
    "# Делим текст на части\n",
    "documents = text_splitter.split_documents(documents)\n",
    "print(f\"Total documents: {len(documents)}\")\n",
    "\n"
   ]
  },
  {
   "cell_type": "code",
   "execution_count": 17,
   "id": "f0c70b5a",
   "metadata": {},
   "outputs": [
    {
     "name": "stdout",
     "output_type": "stream",
     "text": [
      "<class 'list'>\n",
      "Москва  2020  Подготовлено: Дата: Версия: Индекс документа: Морозова Е.А. 15.12.2021 2.3 TKV-0-001 Проверено: Дата: Заменяет: Страниц всего: Багмут Т.Ю. 17.12.2021 2.2 21 Утверждено: Дата: Действует для: Копия: Слесаренко М.И. 20.12.2021 1С:Франчайзи <Название фирмы> Оригинал       1С:Технология корпоративного внедрения  Руководство по управлению проектами. Часть 3. «Организационная структура»  Версия 2.3\n",
      "{'source': '/Users/alexeyvaganov/doc/Работа/Технология_корпоративного_внедрения/Организационная структура/Руководство по управлению проектами Часть 3 Организационная структура ТKV-0-001 v2.3.pdf', 'page': 0}\n",
      "-----\n",
      "Страница    21 из 21  \n",
      "В области функционального проектирования Обеспечивают полную и качественную реализацию методологических и регламентных документов функциональной области. Консультирует по сложным вопросам учета. Осуществляет взаимодействие с разработчиками программного продукта.  В области системной архитектуры Обеспечивает достижение оптимальной функциональной и технической архитектуры системы. Осуществляет аудит разрабатываемого программного продукта. Вырабатывает рекомендации по технологическим вопросам разработки и достижения требуемых показателей производительности и надежности. 4.  Специалист разработчика отраслевого решения Предоставляет консультации, актуальную и непротиворечивую информацию по запросу Исполнителя или Заказчика в рамках сопровождения типового функционала программного продукта. Выполняет работы в рамках сервиса 1С:ИТС в зоне своей ответственности.\n",
      "{'source': '/Users/alexeyvaganov/doc/Работа/Технология_корпоративного_внедрения/Организационная структура/Руководство по управлению проектами Часть 3 Организационная структура ТKV-0-001 v2.3.pdf', 'page': 20}\n"
     ]
    }
   ],
   "source": [
    "print(type(documents))\n",
    "print(documents[0].page_content)\n",
    "print(documents[0].metadata)\n",
    "print(\"-----\")\n",
    "print(documents[73].page_content)\n",
    "print(documents[73].metadata)"
   ]
  },
  {
   "cell_type": "code",
   "execution_count": 6,
   "id": "800d3870",
   "metadata": {},
   "outputs": [
    {
     "name": "stderr",
     "output_type": "stream",
     "text": [
      "/Users/alexeyvaganov/miniforge3/lib/python3.9/site-packages/huggingface_hub/file_download.py:797: FutureWarning: `resume_download` is deprecated and will be removed in version 1.0.0. Downloads always resume when possible. If you want to force a new download, use `force_download=True`.\n",
      "  warnings.warn(\n",
      "/Users/alexeyvaganov/miniforge3/lib/python3.9/site-packages/huggingface_hub/file_download.py:797: FutureWarning: `resume_download` is deprecated and will be removed in version 1.0.0. Downloads always resume when possible. If you want to force a new download, use `force_download=True`.\n",
      "  warnings.warn(\n"
     ]
    }
   ],
   "source": [
    "# Если у вас нет видеокарты, укажите 'device': 'cpu'\n",
    "# Выбираем эмбединг (чтобы можно было перевести текст в вектор)\n",
    "hf_embeddings_model = HuggingFaceEmbeddings(\n",
    "    model_name=\"cointegrated/LaBSE-en-ru\", model_kwargs={\"device\": \"cpu\"}\n",
    ")"
   ]
  },
  {
   "cell_type": "code",
   "execution_count": 18,
   "id": "6f43340f",
   "metadata": {},
   "outputs": [],
   "source": [
    "#  Загрузка в базу данных\n",
    "db = Chroma.from_documents(\n",
    "    documents,\n",
    "    hf_embeddings_model,\n",
    "    client_settings=Settings(anonymized_telemetry=False),\n",
    ")"
   ]
  },
  {
   "cell_type": "code",
   "execution_count": 45,
   "id": "58a9abd9",
   "metadata": {},
   "outputs": [],
   "source": [
    "prompt = \"Кто выволняет тестирование ИС ?\""
   ]
  },
  {
   "cell_type": "code",
   "execution_count": 46,
   "id": "e1f78743",
   "metadata": {},
   "outputs": [
    {
     "name": "stdout",
     "output_type": "stream",
     "text": [
      "В соответствии с данными, ответом является: Тестировщик (11). Он выполняет внутреннее тестирование ИС в соответствии со сценариями тестирования, подготовленными аналитиками."
     ]
    },
    {
     "data": {
      "text/plain": [
       "'В соответствии с данными, ответом является: Тестировщик (11). Он выполняет внутреннее тестирование ИС в соответствии со сценариями тестирования, подготовленными аналитиками.'"
      ]
     },
     "execution_count": 46,
     "metadata": {},
     "output_type": "execute_result"
    }
   ],
   "source": [
    "data = db.similarity_search(prompt,k=4)\n",
    "question = f\"Используя эти данные: {data}. Ответь на русском языке этот запрос: {prompt}\"\n",
    "llm.invoke([HumanMessage(content=question)])"
   ]
  },
  {
   "cell_type": "code",
   "execution_count": 44,
   "id": "d34d17b9",
   "metadata": {},
   "outputs": [
    {
     "data": {
      "text/plain": [
       "[Document(metadata={'page': 17, 'source': '/Users/alexeyvaganov/doc/Работа/Технология_корпоративного_внедрения/Организационная структура/Руководство по управлению проектами Часть 3 Организационная структура ТKV-0-001 v2.3.pdf'}, page_content='в ИС. Разрабатывает контрольные примеры и сценарии тестирования в части функциональных требований к ИС.  Разрабатывает проектную документацию по функционалу ИС, интеграции, миграции данных, распределению ролей и полномочий в ИС. 9.  Технический писатель Разрабатывает и актуализирует проектную документацию, входящую в состав результатов проекта. 10.  Программист Выполняет разработку/доработку программного продукта, взятого в качестве основы построения ИС, согласно постановке задачи аналитика. Взаимодействует с аналитиком (постановщиком) по вопросам к доработкам ИС. Разрабатывает проектную документацию по доработкам ИС: спецификации на разработку/доработку программного продукта. 11.  Тестировщик Выполняет внутреннее тестирование ИС в соответствии со сценариями тестирования, подготовленными аналитиками.  Взаимодействует с программистами по результатам тестирования. Участвует в рассмотрениях материалов, разрабатываемых аналитиками.'),\n",
       " Document(metadata={'page': 11, 'source': '/Users/alexeyvaganov/doc/Работа/Технология_корпоративного_внедрения/Организационная структура/Руководство по управлению проектами Часть 3 Организационная структура ТKV-0-001 v2.3.pdf'}, page_content='Инициирует процедуры внутреннего контроля качества. Согласовывает вопросы, инициируемые Руководителями проекта Исполнителя и Вендора для рассмотрения Управляющим комитетом.  Обеспечивает выполнение организационных задач, связанных с завершением Проекта/Этапа на стороне Исполнителя.  В области управления параметрами проекта (сроки, стоимость и содержание проекта), в случае если ответственность возложена на Руководителя проекта Заказчика Производит подготовку плана-графика проекта, разработку и согласование изменений и дополнений к нему. Принимает решения по приоритезации работ. Контролирует своевременность выполнения работ проекта. Обеспечивает документирование проекта. Обеспечивает внутренний (для проекта) контроль качества результатов работ.  Работает с ожиданиями заинтересованных сторон.'),\n",
       " Document(metadata={'page': 17, 'source': '/Users/alexeyvaganov/doc/Работа/Технология_корпоративного_внедрения/Организационная структура/Руководство по управлению проектами Часть 3 Организационная структура ТKV-0-001 v2.3.pdf'}, page_content='по профильным вопросам в рамках своего направления. 7.  Методолог Проводит обследование и участвует в моделировании бизнес-процессов предприятий Заказчика. Разрабатывает норматично-методологическую документацию. Формулирует предложения по организационным изменениям, отслеживает их реализацию. Участвует в переговорном процессе с Заказчиком при необходимости по вопросам методологического обеспечения бизнес-процессов.  Взаимодействует с аналитиками по вопросам возможностей системной реализации методологических требований. 8.  Аналитик Проектирует системную реализацию функционала ИС в рамках своего направления. Взаимодействует с методологами и разработчиками по требованиям к доработкам ИС, механизмам интеграции и миграции данных. Проводит контроль качества реализации функциональных требований в ИС. Разрабатывает контрольные примеры и сценарии тестирования в части функциональных требований к ИС.  Разрабатывает проектную документацию по функционалу ИС, интеграции, миграции данных,'),\n",
       " Document(metadata={'page': 19, 'source': '/Users/alexeyvaganov/doc/Работа/Технология_корпоративного_внедрения/Организационная структура/Руководство по управлению проектами Часть 3 Организационная структура ТKV-0-001 v2.3.pdf'}, page_content='Готовит отчет по результатам обучения для Менеджера по обучению. 20.  Специалист по сопровождению Обеспечивает запуск ИС в Опытную и Опытно-промышленную эксплуатацию: осуществляет начальные настройки ИС, помогает пользователям ввести начальные данные в ИС (из объема, не подлежащего автоматической загрузке). Осуществляет наставничество пользователей ИС («обучение на местах»). Обрабатывает инциденты, зарегистрированные пользователями. Обеспечивает инициацию пользователями и инициирует самостоятельно (при объективной необходимости) сообщения об инцидентах в работе с ИС, дефектах и несоответствиях, формулирует вопросы и проблемы по эксплуатации ИС.  Участвует в рассмотрении материалов, разрабатываемых аналитиками.  СО СТОРОНЫ ФИРМЫ «1С»  Проектная роль Обязанности 1.  Куратор проекта Выдает рекомендации по подбору квалифицированной команды проекта. Оказывает помощь Заказчику и Исполнителю в согласовании рамок проекта, содержания работ, архитектуры внедряемых решений. Обеспечивает проект')]"
      ]
     },
     "execution_count": 44,
     "metadata": {},
     "output_type": "execute_result"
    }
   ],
   "source": [
    "data"
   ]
  },
  {
   "cell_type": "markdown",
   "id": "9dcfc34e",
   "metadata": {},
   "source": [
    "# УСТАНОВКА ПАКЕТОВ"
   ]
  }
 ],
 "metadata": {
  "kernelspec": {
   "display_name": "Python 3 (ipykernel)",
   "language": "python",
   "name": "python3"
  },
  "language_info": {
   "codemirror_mode": {
    "name": "ipython",
    "version": 3
   },
   "file_extension": ".py",
   "mimetype": "text/x-python",
   "name": "python",
   "nbconvert_exporter": "python",
   "pygments_lexer": "ipython3",
   "version": "3.9.10"
  }
 },
 "nbformat": 4,
 "nbformat_minor": 5
}
