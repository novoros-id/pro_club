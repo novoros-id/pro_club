{
 "cells": [
  {
   "cell_type": "code",
   "execution_count": 23,
   "id": "a82f0117",
   "metadata": {},
   "outputs": [],
   "source": [
    "from langchain_ollama import OllamaLLM\n",
    "from langchain.callbacks.manager import CallbackManager\n",
    "from langchain.callbacks.streaming_stdout import StreamingStdOutCallbackHandler\n",
    "from langchain import PromptTemplate"
   ]
  },
  {
   "cell_type": "code",
   "execution_count": 24,
   "id": "c31b201a",
   "metadata": {},
   "outputs": [],
   "source": [
    "from langchain.schema import HumanMessage"
   ]
  },
  {
   "cell_type": "code",
   "execution_count": 25,
   "id": "216be451",
   "metadata": {},
   "outputs": [],
   "source": [
    "llm = OllamaLLM(\n",
    "    model=\"llama3\", callback_manager=CallbackManager([StreamingStdOutCallbackHandler()]), temperature = \"0.1\"\n",
    ")"
   ]
  },
  {
   "cell_type": "code",
   "execution_count": 26,
   "id": "e8a03471",
   "metadata": {},
   "outputs": [
    {
     "name": "stdout",
     "output_type": "stream",
     "text": [
      "Total documents: 16\n"
     ]
    }
   ],
   "source": [
    "#Загрузка библиотек. Если не хватает библиотеки, то гуглить но почти всегда спасает pip install имя_пакета\n",
    "from langchain.document_loaders import PyPDFLoader\n",
    "from langchain.text_splitter import (\n",
    "    RecursiveCharacterTextSplitter,\n",
    ")\n",
    "from chromadb.config import Settings\n",
    "from langchain.vectorstores import Chroma\n",
    "\n",
    "#from langchain.embeddings  import HuggingFaceEmbeddings\n",
    "from langchain_huggingface import HuggingFaceEmbeddings\n",
    "\n",
    "# Загрузка файла pdf\n",
    "loader = PyPDFLoader(\"The_Daughter_of_The_Commandant.pdf\")\n",
    "documents = loader.load()\n",
    "\n",
    "# Определения принципа деления текста на части\n",
    "text_splitter = RecursiveCharacterTextSplitter(\n",
    "    chunk_size=1000,\n",
    "    chunk_overlap=200,\n",
    ")\n",
    "\n",
    "# Делим текст на части\n",
    "documents = text_splitter.split_documents(documents)\n",
    "print(f\"Total documents: {len(documents)}\")\n",
    "\n"
   ]
  },
  {
   "cell_type": "code",
   "execution_count": 50,
   "id": "3f88ac91",
   "metadata": {},
   "outputs": [
    {
     "name": "stdout",
     "output_type": "stream",
     "text": [
      "<class 'list'>\n",
      "page_content='www.a4format.ru   \n",
      "Все произведения  школьной  программы  в кратком  изложении . — М.: АСТ , 1996.  \n",
      " \n",
      "И.О. Родин , Т.М. Пименова  \n",
      "Капитанская  дочка  \n",
      "Краткое  содержание  \n",
      "Глава  1 \n",
      "Сержант  гвардии  \n",
      "Глава  открывается  биографией  Петра  Гринева : отец  служил , вышел  в отставку , \n",
      "в семье  было  девять  детей , но все, кроме  Петра , умерли  в младенчестве . Еще до его появ -\n",
      "ления  на свет Гринева  записали  в Семеновский  полк . До совершеннолетия  он считался  в \n",
      "отпуске . Воспитывает  мальчика  дядька  Савельич , под руководством  которого  Петруша  \n",
      "осваивает  русскую  грамоту  и учится  судить  о достоинствах  борзого  кобеля . Позже  к нему  \n",
      "выписывают  француза  Бопре , который  должен  был учить  мальчика  «по-французски , по-\n",
      "немецки  и другим  наукам », но воспитанием  Петруши  он не занимался , а пил и гулял  по \n",
      "девичьим . Отец  вскоре  обнаруживает  это и выгоняет  француза . Когда  Петру  пошел  сем-' metadata={'source': 'The_Daughter_of_The_Commandant.pdf', 'page': 0}\n",
      "-----\n",
      "page_content='немецки  и другим  наукам », но воспитанием  Петруши  он не занимался , а пил и гулял  по \n",
      "девичьим . Отец  вскоре  обнаруживает  это и выгоняет  француза . Когда  Петру  пошел  сем-\n",
      "надцатый  год, отец  отправляет  его на службу , но не в Петербург , как надеялся  сын, \n",
      "а в Оренбург . Напутствуя  Петра , отец  велит  беречь  ему «платье  снову , а честь  смолоду ». \n",
      "По приезде  в Симбирск  Гринев  знакомится  в трактире  с ротмистром  Зуриным , который  \n",
      "учит  его играть  на бильярде , спаивает  и выигрывает  у него  сто рублей . Гринев  «вел себя, \n",
      "как мальчишка , вырвавшийся  на волю ». Наутро  Зурин  требует  выигрыш . Желая  показать  \n",
      "характер , Гринев  заставляет  Савельича , несмотря  на его протесты , выдать  деньги  и, при-\n",
      "стыженный , уезжает  из Симбирска . \n",
      "Глава  2 \n",
      "Вожатый  \n",
      "По дороге  Гринев  просит  у Савельича  прощения  за свое глупое  поведение . В пути  их \n",
      "застает  буран . Они сбиваются  с дороги . Встречают  человека , «сметливость  и тонкость' metadata={'source': 'The_Daughter_of_The_Commandant.pdf', 'page': 0}\n"
     ]
    }
   ],
   "source": [
    "print(type(documents))\n",
    "print(documents[0])\n",
    "print(\"-----\")\n",
    "print(documents[1])"
   ]
  },
  {
   "cell_type": "code",
   "execution_count": 27,
   "id": "800d3870",
   "metadata": {},
   "outputs": [
    {
     "name": "stderr",
     "output_type": "stream",
     "text": [
      "/Users/alexeyvaganov/miniforge3/lib/python3.9/site-packages/huggingface_hub/file_download.py:797: FutureWarning: `resume_download` is deprecated and will be removed in version 1.0.0. Downloads always resume when possible. If you want to force a new download, use `force_download=True`.\n",
      "  warnings.warn(\n"
     ]
    }
   ],
   "source": [
    "# Если у вас нет видеокарты, укажите 'device': 'cpu'\n",
    "# Выбираем эмбединг (чтобы можно было перевести текст в вектор)\n",
    "hf_embeddings_model = HuggingFaceEmbeddings(\n",
    "    model_name=\"cointegrated/LaBSE-en-ru\", model_kwargs={\"device\": \"cpu\"}\n",
    ")"
   ]
  },
  {
   "cell_type": "code",
   "execution_count": 28,
   "id": "6f43340f",
   "metadata": {},
   "outputs": [],
   "source": [
    "#  Загрузка в базу данных\n",
    "db = Chroma.from_documents(\n",
    "    documents,\n",
    "    hf_embeddings_model,\n",
    "    client_settings=Settings(anonymized_telemetry=False),\n",
    ")"
   ]
  },
  {
   "cell_type": "code",
   "execution_count": 43,
   "id": "58a9abd9",
   "metadata": {},
   "outputs": [],
   "source": [
    "prompt = \"Кому подарили заячий тулупчик?\""
   ]
  },
  {
   "cell_type": "code",
   "execution_count": 62,
   "id": "1efacbbf",
   "metadata": {},
   "outputs": [],
   "source": [
    "prompt = \"Кем оказался вожатый?\""
   ]
  },
  {
   "cell_type": "code",
   "execution_count": 63,
   "id": "e1f78743",
   "metadata": {},
   "outputs": [
    {
     "name": "stdout",
     "output_type": "stream",
     "text": [
      "В документе с метаданными {'page': 1, 'source': 'The_Daughter_of_The_Commandant.pdf'} и содержимым 'но силы неравны. Захватив крепость, Пугачев устраивает «суд». Ивана Кузьмича и его товарищей казнят (вешают). Когда очередь доходит до Гринева, Савельич бросается в ноги Пугачеву, умоляя пощадить «барского дитятю», обещает выкуп. Пугачев соглашается. Жители города и гарнизонные солдаты присягают Пугачеву. На крыльцо выводят раздетую Василису Егоровну, убивают ее. Пугачев уезжает. Глава 8 Незваный гость Гринева мучает мысль о судьбе Маши...' Савельич сообщает Гриневу, что он узнал в Пугачеве вожатого.\n",
      "\n",
      "Таким образом, вожатым оказался Пугачев. Source: The_Daughter_of_The_Commandant.pdf."
     ]
    },
    {
     "data": {
      "text/plain": [
       "\"В документе с метаданными {'page': 1, 'source': 'The_Daughter_of_The_Commandant.pdf'} и содержимым 'но силы неравны. Захватив крепость, Пугачев устраивает «суд». Ивана Кузьмича и его товарищей казнят (вешают). Когда очередь доходит до Гринева, Савельич бросается в ноги Пугачеву, умоляя пощадить «барского дитятю», обещает выкуп. Пугачев соглашается. Жители города и гарнизонные солдаты присягают Пугачеву. На крыльцо выводят раздетую Василису Егоровну, убивают ее. Пугачев уезжает. Глава 8 Незваный гость Гринева мучает мысль о судьбе Маши...' Савельич сообщает Гриневу, что он узнал в Пугачеве вожатого.\\n\\nТаким образом, вожатым оказался Пугачев. Source: The_Daughter_of_The_Commandant.pdf.\""
      ]
     },
     "execution_count": 63,
     "metadata": {},
     "output_type": "execute_result"
    }
   ],
   "source": [
    "data = db.similarity_search(prompt,k=4)\n",
    "question = f\"Используя эти данные: {data}. Ответь на русском языке на этот запрос: {prompt} и укажи source \"\n",
    "llm.invoke([HumanMessage(content=question)])"
   ]
  },
  {
   "cell_type": "code",
   "execution_count": 56,
   "id": "cf7094d1",
   "metadata": {},
   "outputs": [
    {
     "name": "stdout",
     "output_type": "stream",
     "text": [
      "<class 'list'>\n",
      "Total documents: 4\n",
      "page_content='но силы  неравны . Захватив  крепость , Пугачев  устраивает  «суд». \n",
      "Ивана  Кузьмича  и его товарищей  казнят  (вешают ). Когда  очередь  доходит  до Гринева , \n",
      "Савельич  бросается  в ноги  Пугачеву , умоляя  пощадить  «барского  дитятю », обещает  \n",
      "выкуп . Пугачев  соглашается . Жители  города  и гарнизонные  солдаты  присягают  Пугачеву . \n",
      "На крыльцо  выводят  раздетую  Василису  Егоровну , убивают  ее. Пугачев  уезжает . \n",
      "Глава  8 \n",
      "Незваный  гость  \n",
      "Гринева  мучает  мысль  о судьбе  Маши . Ее прячет  у себя попадья , от которой  Гринев  \n",
      "узнает , что Швабрин  перешел  на сторону  Пугачева . Савельич  сообщает  Гриневу , что \n",
      "узнал  в Пугачеве  вожатого . Пугачев  зовет  Гринева  к себе. Гринев  отправляется . «Все \n",
      "обходились  между  собою  как товарищи  и не оказывали  никакого  особенного  предпочте -\n",
      "ния своему  предводителю ... Каждый  хвастал , предлагал  свои  мнения  и свободно  оспори -' metadata={'page': 1, 'source': 'The_Daughter_of_The_Commandant.pdf'}\n",
      "page_content='но силы  неравны . Захватив  крепость , Пугачев  устраивает  «суд». \n",
      "Ивана  Кузьмича  и его товарищей  казнят  (вешают ). Когда  очередь  доходит  до Гринева , \n",
      "Савельич  бросается  в ноги  Пугачеву , умоляя  пощадить  «барского  дитятю », обещает  \n",
      "выкуп . Пугачев  соглашается . Жители  города  и гарнизонные  солдаты  присягают  Пугачеву . \n",
      "На крыльцо  выводят  раздетую  Василису  Егоровну , убивают  ее. Пугачев  уезжает . \n",
      "Глава  8 \n",
      "Незваный  гость  \n",
      "Гринева  мучает  мысль  о судьбе  Маши . Ее прячет  у себя попадья , от которой  Гринев  \n",
      "узнает , что Швабрин  перешел  на сторону  Пугачева . Савельич  сообщает  Гриневу , что \n",
      "узнал  в Пугачеве  вожатого . Пугачев  зовет  Гринева  к себе. Гринев  отправляется . «Все \n",
      "обходились  между  собою  как товарищи  и не оказывали  никакого  особенного  предпочте -\n",
      "ния своему  предводителю ... Каждый  хвастал , предлагал  свои  мнения  и свободно  оспори -' metadata={'page': 1, 'source': 'The_Daughter_of_The_Commandant.pdf'}\n",
      "page_content='но силы  неравны . Захватив  крепость , Пугачев  устраивает  «суд». \n",
      "Ивана  Кузьмича  и его товарищей  казнят  (вешают ). Когда  очередь  доходит  до Гринева , \n",
      "Савельич  бросается  в ноги  Пугачеву , умоляя  пощадить  «барского  дитятю », обещает  \n",
      "выкуп . Пугачев  соглашается . Жители  города  и гарнизонные  солдаты  присягают  Пугачеву . \n",
      "На крыльцо  выводят  раздетую  Василису  Егоровну , убивают  ее. Пугачев  уезжает . \n",
      "Глава  8 \n",
      "Незваный  гость  \n",
      "Гринева  мучает  мысль  о судьбе  Маши . Ее прячет  у себя попадья , от которой  Гринев  \n",
      "узнает , что Швабрин  перешел  на сторону  Пугачева . Савельич  сообщает  Гриневу , что \n",
      "узнал  в Пугачеве  вожатого . Пугачев  зовет  Гринева  к себе. Гринев  отправляется . «Все \n",
      "обходились  между  собою  как товарищи  и не оказывали  никакого  особенного  предпочте -\n",
      "ния своему  предводителю ... Каждый  хвастал , предлагал  свои  мнения  и свободно  оспори -' metadata={'page': 1, 'source': 'The_Daughter_of_The_Commandant.pdf'}\n",
      "page_content='сорока , росту  среднего , худощав  и широкоплеч . В черной  бороде  его показывалась  про-\n",
      "седь, живые  большие  глаза  так и бегали . Лицо  его имело  выражение  довольно  приятное , \n",
      "но плутовское . Волоса  были  обстрижены  в кружок , на нем был оборванный  армяк  и татар -\n",
      "ские  шаровары ». Вожатый  разговаривает  с хозяином  на «иносказательном  языке »: \n",
      "«В огород  летал , конопли  клевал ; швырнула  бабушка  камешком , да мимо ». Гринев  под-\n",
      "носит  вожатому  стакан  вина , дарит  ему заячий  тулупчик . Из Оренбурга  старый  товарищ  \n",
      "отца  Андрей  Карлович  Р. направляет  Гринева  на службу  в Белогорскую  крепость  \n",
      "(40 верст  от города ). \n",
      "Глава  3 \n",
      "Крепость  \n",
      "Крепость  похожа  на деревушку . Распоряжается  всем  разумная  и добрая  жена  комен -\n",
      "данта , Василиса  Егоровна . На другое  утро  Гринев  знакомится  с Алексеем  Ивановичем  \n",
      "Швабриным , молодым  офицером  «невысокого  роста , с лицом  смуглым  и отменно  не-' metadata={'page': 0, 'source': 'The_Daughter_of_The_Commandant.pdf'}\n"
     ]
    }
   ],
   "source": [
    "print(type(data))\n",
    "print(f\"Total documents: {len(data)}\")\n",
    "print(data[0])\n",
    "print(data[1])\n",
    "print(data[2])\n",
    "print(data[3])\n"
   ]
  },
  {
   "cell_type": "code",
   "execution_count": 58,
   "id": "583510f7",
   "metadata": {},
   "outputs": [
    {
     "name": "stdout",
     "output_type": "stream",
     "text": [
      "Используя эти данные: [Document(metadata={'page': 1, 'source': 'The_Daughter_of_The_Commandant.pdf'}, page_content='но силы  неравны . Захватив  крепость , Пугачев  устраивает  «суд». \\nИвана  Кузьмича  и его товарищей  казнят  (вешают ). Когда  очередь  доходит  до Гринева , \\nСавельич  бросается  в ноги  Пугачеву , умоляя  пощадить  «барского  дитятю », обещает  \\nвыкуп . Пугачев  соглашается . Жители  города  и гарнизонные  солдаты  присягают  Пугачеву . \\nНа крыльцо  выводят  раздетую  Василису  Егоровну , убивают  ее. Пугачев  уезжает . \\nГлава  8 \\nНезваный  гость  \\nГринева  мучает  мысль  о судьбе  Маши . Ее прячет  у себя попадья , от которой  Гринев  \\nузнает , что Швабрин  перешел  на сторону  Пугачева . Савельич  сообщает  Гриневу , что \\nузнал  в Пугачеве  вожатого . Пугачев  зовет  Гринева  к себе. Гринев  отправляется . «Все \\nобходились  между  собою  как товарищи  и не оказывали  никакого  особенного  предпочте -\\nния своему  предводителю ... Каждый  хвастал , предлагал  свои  мнения  и свободно  оспори -'), Document(metadata={'page': 1, 'source': 'The_Daughter_of_The_Commandant.pdf'}, page_content='но силы  неравны . Захватив  крепость , Пугачев  устраивает  «суд». \\nИвана  Кузьмича  и его товарищей  казнят  (вешают ). Когда  очередь  доходит  до Гринева , \\nСавельич  бросается  в ноги  Пугачеву , умоляя  пощадить  «барского  дитятю », обещает  \\nвыкуп . Пугачев  соглашается . Жители  города  и гарнизонные  солдаты  присягают  Пугачеву . \\nНа крыльцо  выводят  раздетую  Василису  Егоровну , убивают  ее. Пугачев  уезжает . \\nГлава  8 \\nНезваный  гость  \\nГринева  мучает  мысль  о судьбе  Маши . Ее прячет  у себя попадья , от которой  Гринев  \\nузнает , что Швабрин  перешел  на сторону  Пугачева . Савельич  сообщает  Гриневу , что \\nузнал  в Пугачеве  вожатого . Пугачев  зовет  Гринева  к себе. Гринев  отправляется . «Все \\nобходились  между  собою  как товарищи  и не оказывали  никакого  особенного  предпочте -\\nния своему  предводителю ... Каждый  хвастал , предлагал  свои  мнения  и свободно  оспори -'), Document(metadata={'page': 1, 'source': 'The_Daughter_of_The_Commandant.pdf'}, page_content='но силы  неравны . Захватив  крепость , Пугачев  устраивает  «суд». \\nИвана  Кузьмича  и его товарищей  казнят  (вешают ). Когда  очередь  доходит  до Гринева , \\nСавельич  бросается  в ноги  Пугачеву , умоляя  пощадить  «барского  дитятю », обещает  \\nвыкуп . Пугачев  соглашается . Жители  города  и гарнизонные  солдаты  присягают  Пугачеву . \\nНа крыльцо  выводят  раздетую  Василису  Егоровну , убивают  ее. Пугачев  уезжает . \\nГлава  8 \\nНезваный  гость  \\nГринева  мучает  мысль  о судьбе  Маши . Ее прячет  у себя попадья , от которой  Гринев  \\nузнает , что Швабрин  перешел  на сторону  Пугачева . Савельич  сообщает  Гриневу , что \\nузнал  в Пугачеве  вожатого . Пугачев  зовет  Гринева  к себе. Гринев  отправляется . «Все \\nобходились  между  собою  как товарищи  и не оказывали  никакого  особенного  предпочте -\\nния своему  предводителю ... Каждый  хвастал , предлагал  свои  мнения  и свободно  оспори -'), Document(metadata={'page': 0, 'source': 'The_Daughter_of_The_Commandant.pdf'}, page_content='сорока , росту  среднего , худощав  и широкоплеч . В черной  бороде  его показывалась  про-\\nседь, живые  большие  глаза  так и бегали . Лицо  его имело  выражение  довольно  приятное , \\nно плутовское . Волоса  были  обстрижены  в кружок , на нем был оборванный  армяк  и татар -\\nские  шаровары ». Вожатый  разговаривает  с хозяином  на «иносказательном  языке »: \\n«В огород  летал , конопли  клевал ; швырнула  бабушка  камешком , да мимо ». Гринев  под-\\nносит  вожатому  стакан  вина , дарит  ему заячий  тулупчик . Из Оренбурга  старый  товарищ  \\nотца  Андрей  Карлович  Р. направляет  Гринева  на службу  в Белогорскую  крепость  \\n(40 верст  от города ). \\nГлава  3 \\nКрепость  \\nКрепость  похожа  на деревушку . Распоряжается  всем  разумная  и добрая  жена  комен -\\nданта , Василиса  Егоровна . На другое  утро  Гринев  знакомится  с Алексеем  Ивановичем  \\nШвабриным , молодым  офицером  «невысокого  роста , с лицом  смуглым  и отменно  не-')]. Ответь на этот запрос  на русском языке: Кому подарили заячий тулупчик?\n"
     ]
    }
   ],
   "source": [
    "print(question)"
   ]
  },
  {
   "cell_type": "code",
   "execution_count": null,
   "id": "1b79c32a",
   "metadata": {},
   "outputs": [],
   "source": []
  },
  {
   "cell_type": "markdown",
   "id": "9dcfc34e",
   "metadata": {},
   "source": [
    "# УСТАНОВКА ПАКЕТОВ"
   ]
  },
  {
   "cell_type": "code",
   "execution_count": 7,
   "id": "c562d3d1",
   "metadata": {},
   "outputs": [
    {
     "name": "stdout",
     "output_type": "stream",
     "text": [
      "Collecting langchain_huggingface\n",
      "  Using cached langchain_huggingface-0.1.2-py3-none-any.whl (21 kB)\n",
      "Collecting huggingface-hub>=0.23.0\n",
      "  Using cached huggingface_hub-0.26.2-py3-none-any.whl (447 kB)\n",
      "Requirement already satisfied: langchain-core<0.4.0,>=0.3.15 in /Users/alexeyvaganov/miniforge3/lib/python3.9/site-packages (from langchain_huggingface) (0.3.18)\n",
      "Requirement already satisfied: sentence-transformers>=2.6.0 in /Users/alexeyvaganov/miniforge3/lib/python3.9/site-packages (from langchain_huggingface) (2.7.0)\n",
      "Requirement already satisfied: transformers>=4.39.0 in /Users/alexeyvaganov/miniforge3/lib/python3.9/site-packages (from langchain_huggingface) (4.40.1)\n",
      "Requirement already satisfied: tokenizers>=0.19.1 in /Users/alexeyvaganov/miniforge3/lib/python3.9/site-packages (from langchain_huggingface) (0.19.1)\n",
      "Requirement already satisfied: fsspec>=2023.5.0 in /Users/alexeyvaganov/miniforge3/lib/python3.9/site-packages (from huggingface-hub>=0.23.0->langchain_huggingface) (2024.3.1)\n",
      "Requirement already satisfied: filelock in /Users/alexeyvaganov/miniforge3/lib/python3.9/site-packages (from huggingface-hub>=0.23.0->langchain_huggingface) (3.13.4)\n",
      "Requirement already satisfied: requests in /Users/alexeyvaganov/miniforge3/lib/python3.9/site-packages (from huggingface-hub>=0.23.0->langchain_huggingface) (2.31.0)\n",
      "Requirement already satisfied: pyyaml>=5.1 in /Users/alexeyvaganov/miniforge3/lib/python3.9/site-packages (from huggingface-hub>=0.23.0->langchain_huggingface) (6.0)\n",
      "Requirement already satisfied: tqdm>=4.42.1 in /Users/alexeyvaganov/miniforge3/lib/python3.9/site-packages (from huggingface-hub>=0.23.0->langchain_huggingface) (4.66.4)\n",
      "Requirement already satisfied: typing-extensions>=3.7.4.3 in /Users/alexeyvaganov/miniforge3/lib/python3.9/site-packages (from huggingface-hub>=0.23.0->langchain_huggingface) (4.11.0)\n",
      "Requirement already satisfied: packaging>=20.9 in /Users/alexeyvaganov/miniforge3/lib/python3.9/site-packages (from huggingface-hub>=0.23.0->langchain_huggingface) (23.2)\n",
      "Requirement already satisfied: langsmith<0.2.0,>=0.1.125 in /Users/alexeyvaganov/miniforge3/lib/python3.9/site-packages (from langchain-core<0.4.0,>=0.3.15->langchain_huggingface) (0.1.143)\n",
      "Requirement already satisfied: jsonpatch<2.0,>=1.33 in /Users/alexeyvaganov/miniforge3/lib/python3.9/site-packages (from langchain-core<0.4.0,>=0.3.15->langchain_huggingface) (1.33)\n",
      "Requirement already satisfied: tenacity!=8.4.0,<10.0.0,>=8.1.0 in /Users/alexeyvaganov/miniforge3/lib/python3.9/site-packages (from langchain-core<0.4.0,>=0.3.15->langchain_huggingface) (8.2.3)\n",
      "Requirement already satisfied: pydantic<3.0.0,>=2.5.2 in /Users/alexeyvaganov/miniforge3/lib/python3.9/site-packages (from langchain-core<0.4.0,>=0.3.15->langchain_huggingface) (2.7.1)\n",
      "Requirement already satisfied: torch>=1.11.0 in /Users/alexeyvaganov/miniforge3/lib/python3.9/site-packages (from sentence-transformers>=2.6.0->langchain_huggingface) (2.2.2)\n",
      "Requirement already satisfied: numpy in /Users/alexeyvaganov/miniforge3/lib/python3.9/site-packages (from sentence-transformers>=2.6.0->langchain_huggingface) (1.24.4)\n",
      "Requirement already satisfied: scipy in /Users/alexeyvaganov/miniforge3/lib/python3.9/site-packages (from sentence-transformers>=2.6.0->langchain_huggingface) (1.8.1)\n",
      "Requirement already satisfied: scikit-learn in /Users/alexeyvaganov/miniforge3/lib/python3.9/site-packages (from sentence-transformers>=2.6.0->langchain_huggingface) (1.2.2)\n",
      "Requirement already satisfied: Pillow in /Users/alexeyvaganov/miniforge3/lib/python3.9/site-packages (from sentence-transformers>=2.6.0->langchain_huggingface) (9.1.1)\n",
      "Requirement already satisfied: regex!=2019.12.17 in /Users/alexeyvaganov/miniforge3/lib/python3.9/site-packages (from transformers>=4.39.0->langchain_huggingface) (2023.12.25)\n",
      "Requirement already satisfied: safetensors>=0.4.1 in /Users/alexeyvaganov/miniforge3/lib/python3.9/site-packages (from transformers>=4.39.0->langchain_huggingface) (0.4.3)\n",
      "Requirement already satisfied: jsonpointer>=1.9 in /Users/alexeyvaganov/miniforge3/lib/python3.9/site-packages (from jsonpatch<2.0,>=1.33->langchain-core<0.4.0,>=0.3.15->langchain_huggingface) (2.4)\n",
      "Requirement already satisfied: httpx<1,>=0.23.0 in /Users/alexeyvaganov/miniforge3/lib/python3.9/site-packages (from langsmith<0.2.0,>=0.1.125->langchain-core<0.4.0,>=0.3.15->langchain_huggingface) (0.27.0)\n",
      "Requirement already satisfied: orjson<4.0.0,>=3.9.14 in /Users/alexeyvaganov/miniforge3/lib/python3.9/site-packages (from langsmith<0.2.0,>=0.1.125->langchain-core<0.4.0,>=0.3.15->langchain_huggingface) (3.10.3)\n",
      "Requirement already satisfied: requests-toolbelt<2.0.0,>=1.0.0 in /Users/alexeyvaganov/miniforge3/lib/python3.9/site-packages (from langsmith<0.2.0,>=0.1.125->langchain-core<0.4.0,>=0.3.15->langchain_huggingface) (1.0.0)\n",
      "Requirement already satisfied: pydantic-core==2.18.2 in /Users/alexeyvaganov/miniforge3/lib/python3.9/site-packages (from pydantic<3.0.0,>=2.5.2->langchain-core<0.4.0,>=0.3.15->langchain_huggingface) (2.18.2)\n",
      "Requirement already satisfied: annotated-types>=0.4.0 in /Users/alexeyvaganov/miniforge3/lib/python3.9/site-packages (from pydantic<3.0.0,>=2.5.2->langchain-core<0.4.0,>=0.3.15->langchain_huggingface) (0.6.0)\n",
      "Requirement already satisfied: urllib3<3,>=1.21.1 in /Users/alexeyvaganov/miniforge3/lib/python3.9/site-packages (from requests->huggingface-hub>=0.23.0->langchain_huggingface) (1.26.9)\n",
      "Requirement already satisfied: idna<4,>=2.5 in /Users/alexeyvaganov/miniforge3/lib/python3.9/site-packages (from requests->huggingface-hub>=0.23.0->langchain_huggingface) (3.3)\n",
      "Requirement already satisfied: charset-normalizer<4,>=2 in /Users/alexeyvaganov/miniforge3/lib/python3.9/site-packages (from requests->huggingface-hub>=0.23.0->langchain_huggingface) (2.0.12)\n",
      "Requirement already satisfied: certifi>=2017.4.17 in /Users/alexeyvaganov/miniforge3/lib/python3.9/site-packages (from requests->huggingface-hub>=0.23.0->langchain_huggingface) (2022.5.18.1)\n",
      "Requirement already satisfied: jinja2 in /Users/alexeyvaganov/miniforge3/lib/python3.9/site-packages (from torch>=1.11.0->sentence-transformers>=2.6.0->langchain_huggingface) (3.1.2)\n",
      "Requirement already satisfied: sympy in /Users/alexeyvaganov/miniforge3/lib/python3.9/site-packages (from torch>=1.11.0->sentence-transformers>=2.6.0->langchain_huggingface) (1.12)\n",
      "Requirement already satisfied: networkx in /Users/alexeyvaganov/miniforge3/lib/python3.9/site-packages (from torch>=1.11.0->sentence-transformers>=2.6.0->langchain_huggingface) (2.8.1)\n",
      "Requirement already satisfied: joblib>=1.1.1 in /Users/alexeyvaganov/miniforge3/lib/python3.9/site-packages (from scikit-learn->sentence-transformers>=2.6.0->langchain_huggingface) (1.4.2)\n",
      "Requirement already satisfied: threadpoolctl>=2.0.0 in /Users/alexeyvaganov/miniforge3/lib/python3.9/site-packages (from scikit-learn->sentence-transformers>=2.6.0->langchain_huggingface) (3.5.0)\n",
      "Requirement already satisfied: httpcore==1.* in /Users/alexeyvaganov/miniforge3/lib/python3.9/site-packages (from httpx<1,>=0.23.0->langsmith<0.2.0,>=0.1.125->langchain-core<0.4.0,>=0.3.15->langchain_huggingface) (1.0.5)\n",
      "Requirement already satisfied: anyio in /Users/alexeyvaganov/miniforge3/lib/python3.9/site-packages (from httpx<1,>=0.23.0->langsmith<0.2.0,>=0.1.125->langchain-core<0.4.0,>=0.3.15->langchain_huggingface) (4.3.0)\n",
      "Requirement already satisfied: sniffio in /Users/alexeyvaganov/miniforge3/lib/python3.9/site-packages (from httpx<1,>=0.23.0->langsmith<0.2.0,>=0.1.125->langchain-core<0.4.0,>=0.3.15->langchain_huggingface) (1.3.1)\n",
      "Requirement already satisfied: h11<0.15,>=0.13 in /Users/alexeyvaganov/miniforge3/lib/python3.9/site-packages (from httpcore==1.*->httpx<1,>=0.23.0->langsmith<0.2.0,>=0.1.125->langchain-core<0.4.0,>=0.3.15->langchain_huggingface) (0.14.0)\n",
      "Requirement already satisfied: MarkupSafe>=2.0 in /Users/alexeyvaganov/miniforge3/lib/python3.9/site-packages (from jinja2->torch>=1.11.0->sentence-transformers>=2.6.0->langchain_huggingface) (2.1.1)\n",
      "Requirement already satisfied: mpmath>=0.19 in /Users/alexeyvaganov/miniforge3/lib/python3.9/site-packages (from sympy->torch>=1.11.0->sentence-transformers>=2.6.0->langchain_huggingface) (1.3.0)\n",
      "Requirement already satisfied: exceptiongroup>=1.0.2 in /Users/alexeyvaganov/miniforge3/lib/python3.9/site-packages (from anyio->httpx<1,>=0.23.0->langsmith<0.2.0,>=0.1.125->langchain-core<0.4.0,>=0.3.15->langchain_huggingface) (1.2.1)\n"
     ]
    },
    {
     "name": "stdout",
     "output_type": "stream",
     "text": [
      "Installing collected packages: huggingface-hub, langchain_huggingface\n",
      "  Attempting uninstall: huggingface-hub\n",
      "    Found existing installation: huggingface-hub 0.22.2\n",
      "    Uninstalling huggingface-hub-0.22.2:\n",
      "      Successfully uninstalled huggingface-hub-0.22.2\n",
      "Successfully installed huggingface-hub-0.26.2 langchain_huggingface-0.1.2\n",
      "Note: you may need to restart the kernel to use updated packages.\n"
     ]
    }
   ],
   "source": [
    "pip install langchain_huggingface"
   ]
  },
  {
   "cell_type": "code",
   "execution_count": 2,
   "id": "89d027bd",
   "metadata": {},
   "outputs": [
    {
     "name": "stdout",
     "output_type": "stream",
     "text": [
      "Collecting langchain_ollama\n",
      "  Using cached langchain_ollama-0.2.0-py3-none-any.whl (14 kB)\n",
      "Collecting ollama<1,>=0.3.0\n",
      "  Using cached ollama-0.3.3-py3-none-any.whl (10 kB)\n",
      "Collecting langchain-core<0.4.0,>=0.3.0\n",
      "  Downloading langchain_core-0.3.18-py3-none-any.whl (409 kB)\n",
      "\u001b[2K     \u001b[90m━━━━━━━━━━━━━━━━━━━━━━━━━━━━━━━━━━━━━\u001b[0m \u001b[32m409.3/409.3 KB\u001b[0m \u001b[31m896.3 kB/s\u001b[0m eta \u001b[36m0:00:00\u001b[0ma \u001b[36m0:00:01\u001b[0m\n",
      "\u001b[?25hRequirement already satisfied: PyYAML>=5.3 in /Users/alexeyvaganov/miniforge3/lib/python3.9/site-packages (from langchain-core<0.4.0,>=0.3.0->langchain_ollama) (6.0)\n",
      "Requirement already satisfied: pydantic<3.0.0,>=2.5.2 in /Users/alexeyvaganov/miniforge3/lib/python3.9/site-packages (from langchain-core<0.4.0,>=0.3.0->langchain_ollama) (2.7.1)\n",
      "Requirement already satisfied: packaging<25,>=23.2 in /Users/alexeyvaganov/miniforge3/lib/python3.9/site-packages (from langchain-core<0.4.0,>=0.3.0->langchain_ollama) (23.2)\n",
      "Requirement already satisfied: jsonpatch<2.0,>=1.33 in /Users/alexeyvaganov/miniforge3/lib/python3.9/site-packages (from langchain-core<0.4.0,>=0.3.0->langchain_ollama) (1.33)\n",
      "Requirement already satisfied: typing-extensions>=4.7 in /Users/alexeyvaganov/miniforge3/lib/python3.9/site-packages (from langchain-core<0.4.0,>=0.3.0->langchain_ollama) (4.11.0)\n",
      "Requirement already satisfied: tenacity!=8.4.0,<10.0.0,>=8.1.0 in /Users/alexeyvaganov/miniforge3/lib/python3.9/site-packages (from langchain-core<0.4.0,>=0.3.0->langchain_ollama) (8.2.3)\n",
      "Collecting langsmith<0.2.0,>=0.1.125\n",
      "  Downloading langsmith-0.1.143-py3-none-any.whl (306 kB)\n",
      "\u001b[2K     \u001b[90m━━━━━━━━━━━━━━━━━━━━━━━━━━━━━━━━━━━━━\u001b[0m \u001b[32m307.0/307.0 KB\u001b[0m \u001b[31m731.7 kB/s\u001b[0m eta \u001b[36m0:00:00\u001b[0ma \u001b[36m0:00:01\u001b[0m\n",
      "\u001b[?25hRequirement already satisfied: httpx<0.28.0,>=0.27.0 in /Users/alexeyvaganov/miniforge3/lib/python3.9/site-packages (from ollama<1,>=0.3.0->langchain_ollama) (0.27.0)\n",
      "Requirement already satisfied: certifi in /Users/alexeyvaganov/miniforge3/lib/python3.9/site-packages (from httpx<0.28.0,>=0.27.0->ollama<1,>=0.3.0->langchain_ollama) (2022.5.18.1)\n",
      "Requirement already satisfied: anyio in /Users/alexeyvaganov/miniforge3/lib/python3.9/site-packages (from httpx<0.28.0,>=0.27.0->ollama<1,>=0.3.0->langchain_ollama) (4.3.0)\n",
      "Requirement already satisfied: idna in /Users/alexeyvaganov/miniforge3/lib/python3.9/site-packages (from httpx<0.28.0,>=0.27.0->ollama<1,>=0.3.0->langchain_ollama) (3.3)\n",
      "Requirement already satisfied: httpcore==1.* in /Users/alexeyvaganov/miniforge3/lib/python3.9/site-packages (from httpx<0.28.0,>=0.27.0->ollama<1,>=0.3.0->langchain_ollama) (1.0.5)\n",
      "Requirement already satisfied: sniffio in /Users/alexeyvaganov/miniforge3/lib/python3.9/site-packages (from httpx<0.28.0,>=0.27.0->ollama<1,>=0.3.0->langchain_ollama) (1.3.1)\n",
      "Requirement already satisfied: h11<0.15,>=0.13 in /Users/alexeyvaganov/miniforge3/lib/python3.9/site-packages (from httpcore==1.*->httpx<0.28.0,>=0.27.0->ollama<1,>=0.3.0->langchain_ollama) (0.14.0)\n",
      "Requirement already satisfied: jsonpointer>=1.9 in /Users/alexeyvaganov/miniforge3/lib/python3.9/site-packages (from jsonpatch<2.0,>=1.33->langchain-core<0.4.0,>=0.3.0->langchain_ollama) (2.4)\n",
      "Requirement already satisfied: orjson<4.0.0,>=3.9.14 in /Users/alexeyvaganov/miniforge3/lib/python3.9/site-packages (from langsmith<0.2.0,>=0.1.125->langchain-core<0.4.0,>=0.3.0->langchain_ollama) (3.10.3)\n",
      "Requirement already satisfied: requests<3,>=2 in /Users/alexeyvaganov/miniforge3/lib/python3.9/site-packages (from langsmith<0.2.0,>=0.1.125->langchain-core<0.4.0,>=0.3.0->langchain_ollama) (2.31.0)\n",
      "Collecting requests-toolbelt<2.0.0,>=1.0.0\n",
      "  Using cached requests_toolbelt-1.0.0-py2.py3-none-any.whl (54 kB)\n",
      "Requirement already satisfied: annotated-types>=0.4.0 in /Users/alexeyvaganov/miniforge3/lib/python3.9/site-packages (from pydantic<3.0.0,>=2.5.2->langchain-core<0.4.0,>=0.3.0->langchain_ollama) (0.6.0)\n",
      "Requirement already satisfied: pydantic-core==2.18.2 in /Users/alexeyvaganov/miniforge3/lib/python3.9/site-packages (from pydantic<3.0.0,>=2.5.2->langchain-core<0.4.0,>=0.3.0->langchain_ollama) (2.18.2)\n",
      "Requirement already satisfied: urllib3<3,>=1.21.1 in /Users/alexeyvaganov/miniforge3/lib/python3.9/site-packages (from requests<3,>=2->langsmith<0.2.0,>=0.1.125->langchain-core<0.4.0,>=0.3.0->langchain_ollama) (1.26.9)\n",
      "Requirement already satisfied: charset-normalizer<4,>=2 in /Users/alexeyvaganov/miniforge3/lib/python3.9/site-packages (from requests<3,>=2->langsmith<0.2.0,>=0.1.125->langchain-core<0.4.0,>=0.3.0->langchain_ollama) (2.0.12)\n",
      "Requirement already satisfied: exceptiongroup>=1.0.2 in /Users/alexeyvaganov/miniforge3/lib/python3.9/site-packages (from anyio->httpx<0.28.0,>=0.27.0->ollama<1,>=0.3.0->langchain_ollama) (1.2.1)\n",
      "Installing collected packages: requests-toolbelt, ollama, langsmith, langchain-core, langchain_ollama\n",
      "  Attempting uninstall: ollama\n",
      "    Found existing installation: ollama 0.2.0\n",
      "    Uninstalling ollama-0.2.0:\n",
      "      Successfully uninstalled ollama-0.2.0\n",
      "  Attempting uninstall: langsmith\n",
      "    Found existing installation: langsmith 0.1.54\n",
      "    Uninstalling langsmith-0.1.54:\n",
      "      Successfully uninstalled langsmith-0.1.54\n",
      "  Attempting uninstall: langchain-core\n",
      "    Found existing installation: langchain-core 0.1.50\n",
      "    Uninstalling langchain-core-0.1.50:\n",
      "      Successfully uninstalled langchain-core-0.1.50\n",
      "\u001b[31mERROR: pip's dependency resolver does not currently take into account all the packages that are installed. This behaviour is the source of the following dependency conflicts.\n",
      "langchain 0.1.17 requires langchain-core<0.2.0,>=0.1.48, but you have langchain-core 0.3.18 which is incompatible.\n",
      "langchain-text-splitters 0.0.1 requires langchain-core<0.2.0,>=0.1.28, but you have langchain-core 0.3.18 which is incompatible.\n",
      "langchain-openai 0.1.6 requires langchain-core<0.2.0,>=0.1.46, but you have langchain-core 0.3.18 which is incompatible.\n",
      "langchain-community 0.0.36 requires langchain-core<0.2.0,>=0.1.48, but you have langchain-core 0.3.18 which is incompatible.\u001b[0m\u001b[31m\n",
      "\u001b[0mSuccessfully installed langchain-core-0.3.18 langchain_ollama-0.2.0 langsmith-0.1.143 ollama-0.3.3 requests-toolbelt-1.0.0\n",
      "Note: you may need to restart the kernel to use updated packages.\n"
     ]
    }
   ],
   "source": [
    "pip install langchain_ollama"
   ]
  },
  {
   "cell_type": "code",
   "execution_count": 1,
   "id": "594c700a",
   "metadata": {},
   "outputs": [
    {
     "name": "stdout",
     "output_type": "stream",
     "text": [
      "Collecting langchain-huggingface\n",
      "  Downloading langchain_huggingface-0.1.2-py3-none-any.whl (21 kB)\n",
      "Requirement already satisfied: transformers>=4.39.0 in /Users/alexeyvaganov/opt/anaconda3/lib/python3.9/site-packages (from langchain-huggingface) (4.46.2)\n",
      "Requirement already satisfied: tokenizers>=0.19.1 in /Users/alexeyvaganov/opt/anaconda3/lib/python3.9/site-packages (from langchain-huggingface) (0.20.3)\n",
      "Requirement already satisfied: sentence-transformers>=2.6.0 in /Users/alexeyvaganov/opt/anaconda3/lib/python3.9/site-packages (from langchain-huggingface) (3.3.0)\n",
      "Requirement already satisfied: huggingface-hub>=0.23.0 in /Users/alexeyvaganov/opt/anaconda3/lib/python3.9/site-packages (from langchain-huggingface) (0.26.2)\n",
      "Requirement already satisfied: langchain-core<0.4.0,>=0.3.15 in /Users/alexeyvaganov/opt/anaconda3/lib/python3.9/site-packages (from langchain-huggingface) (0.3.15)\n",
      "Requirement already satisfied: fsspec>=2023.5.0 in /Users/alexeyvaganov/opt/anaconda3/lib/python3.9/site-packages (from huggingface-hub>=0.23.0->langchain-huggingface) (2024.3.1)\n",
      "Requirement already satisfied: requests in /Users/alexeyvaganov/opt/anaconda3/lib/python3.9/site-packages (from huggingface-hub>=0.23.0->langchain-huggingface) (2.31.0)\n",
      "Requirement already satisfied: packaging>=20.9 in /Users/alexeyvaganov/opt/anaconda3/lib/python3.9/site-packages (from huggingface-hub>=0.23.0->langchain-huggingface) (23.2)\n",
      "Requirement already satisfied: typing-extensions>=3.7.4.3 in /Users/alexeyvaganov/opt/anaconda3/lib/python3.9/site-packages (from huggingface-hub>=0.23.0->langchain-huggingface) (4.12.2)\n",
      "Requirement already satisfied: filelock in /Users/alexeyvaganov/opt/anaconda3/lib/python3.9/site-packages (from huggingface-hub>=0.23.0->langchain-huggingface) (3.6.0)\n",
      "Requirement already satisfied: tqdm>=4.42.1 in /Users/alexeyvaganov/opt/anaconda3/lib/python3.9/site-packages (from huggingface-hub>=0.23.0->langchain-huggingface) (4.67.0)\n",
      "Requirement already satisfied: pyyaml>=5.1 in /Users/alexeyvaganov/opt/anaconda3/lib/python3.9/site-packages (from huggingface-hub>=0.23.0->langchain-huggingface) (6.0)\n",
      "Requirement already satisfied: jsonpatch<2.0,>=1.33 in /Users/alexeyvaganov/opt/anaconda3/lib/python3.9/site-packages (from langchain-core<0.4.0,>=0.3.15->langchain-huggingface) (1.33)\n",
      "Requirement already satisfied: langsmith<0.2.0,>=0.1.125 in /Users/alexeyvaganov/opt/anaconda3/lib/python3.9/site-packages (from langchain-core<0.4.0,>=0.3.15->langchain-huggingface) (0.1.142)\n",
      "Requirement already satisfied: pydantic<3.0.0,>=2.5.2 in /Users/alexeyvaganov/opt/anaconda3/lib/python3.9/site-packages (from langchain-core<0.4.0,>=0.3.15->langchain-huggingface) (2.9.2)\n",
      "Requirement already satisfied: tenacity!=8.4.0,<10.0.0,>=8.1.0 in /Users/alexeyvaganov/opt/anaconda3/lib/python3.9/site-packages (from langchain-core<0.4.0,>=0.3.15->langchain-huggingface) (9.0.0)\n",
      "Requirement already satisfied: jsonpointer>=1.9 in /Users/alexeyvaganov/opt/anaconda3/lib/python3.9/site-packages (from jsonpatch<2.0,>=1.33->langchain-core<0.4.0,>=0.3.15->langchain-huggingface) (2.1)\n",
      "Requirement already satisfied: orjson<4.0.0,>=3.9.14 in /Users/alexeyvaganov/opt/anaconda3/lib/python3.9/site-packages (from langsmith<0.2.0,>=0.1.125->langchain-core<0.4.0,>=0.3.15->langchain-huggingface) (3.10.11)\n",
      "Requirement already satisfied: httpx<1,>=0.23.0 in /Users/alexeyvaganov/opt/anaconda3/lib/python3.9/site-packages (from langsmith<0.2.0,>=0.1.125->langchain-core<0.4.0,>=0.3.15->langchain-huggingface) (0.27.2)\n",
      "Requirement already satisfied: requests-toolbelt<2.0.0,>=1.0.0 in /Users/alexeyvaganov/opt/anaconda3/lib/python3.9/site-packages (from langsmith<0.2.0,>=0.1.125->langchain-core<0.4.0,>=0.3.15->langchain-huggingface) (1.0.0)\n",
      "Requirement already satisfied: sniffio in /Users/alexeyvaganov/opt/anaconda3/lib/python3.9/site-packages (from httpx<1,>=0.23.0->langsmith<0.2.0,>=0.1.125->langchain-core<0.4.0,>=0.3.15->langchain-huggingface) (1.2.0)\n",
      "Requirement already satisfied: anyio in /Users/alexeyvaganov/opt/anaconda3/lib/python3.9/site-packages (from httpx<1,>=0.23.0->langsmith<0.2.0,>=0.1.125->langchain-core<0.4.0,>=0.3.15->langchain-huggingface) (3.5.0)\n",
      "Requirement already satisfied: httpcore==1.* in /Users/alexeyvaganov/opt/anaconda3/lib/python3.9/site-packages (from httpx<1,>=0.23.0->langsmith<0.2.0,>=0.1.125->langchain-core<0.4.0,>=0.3.15->langchain-huggingface) (1.0.2)\n",
      "Requirement already satisfied: certifi in /Users/alexeyvaganov/opt/anaconda3/lib/python3.9/site-packages (from httpx<1,>=0.23.0->langsmith<0.2.0,>=0.1.125->langchain-core<0.4.0,>=0.3.15->langchain-huggingface) (2024.2.2)\n",
      "Requirement already satisfied: idna in /Users/alexeyvaganov/opt/anaconda3/lib/python3.9/site-packages (from httpx<1,>=0.23.0->langsmith<0.2.0,>=0.1.125->langchain-core<0.4.0,>=0.3.15->langchain-huggingface) (3.3)\n",
      "Requirement already satisfied: h11<0.15,>=0.13 in /Users/alexeyvaganov/opt/anaconda3/lib/python3.9/site-packages (from httpcore==1.*->httpx<1,>=0.23.0->langsmith<0.2.0,>=0.1.125->langchain-core<0.4.0,>=0.3.15->langchain-huggingface) (0.14.0)\n",
      "Requirement already satisfied: pydantic-core==2.23.4 in /Users/alexeyvaganov/opt/anaconda3/lib/python3.9/site-packages (from pydantic<3.0.0,>=2.5.2->langchain-core<0.4.0,>=0.3.15->langchain-huggingface) (2.23.4)\n",
      "Requirement already satisfied: annotated-types>=0.6.0 in /Users/alexeyvaganov/opt/anaconda3/lib/python3.9/site-packages (from pydantic<3.0.0,>=2.5.2->langchain-core<0.4.0,>=0.3.15->langchain-huggingface) (0.7.0)\n",
      "Requirement already satisfied: urllib3<3,>=1.21.1 in /Users/alexeyvaganov/opt/anaconda3/lib/python3.9/site-packages (from requests->huggingface-hub>=0.23.0->langchain-huggingface) (1.26.9)\n",
      "Requirement already satisfied: charset-normalizer<4,>=2 in /Users/alexeyvaganov/opt/anaconda3/lib/python3.9/site-packages (from requests->huggingface-hub>=0.23.0->langchain-huggingface) (2.0.4)\n",
      "Requirement already satisfied: Pillow in /Users/alexeyvaganov/opt/anaconda3/lib/python3.9/site-packages (from sentence-transformers>=2.6.0->langchain-huggingface) (10.3.0)\n",
      "Requirement already satisfied: torch>=1.11.0 in /Users/alexeyvaganov/opt/anaconda3/lib/python3.9/site-packages (from sentence-transformers>=2.6.0->langchain-huggingface) (2.2.2)\n",
      "Requirement already satisfied: scikit-learn in /Users/alexeyvaganov/opt/anaconda3/lib/python3.9/site-packages (from sentence-transformers>=2.6.0->langchain-huggingface) (1.0.2)\n",
      "Requirement already satisfied: scipy in /Users/alexeyvaganov/opt/anaconda3/lib/python3.9/site-packages (from sentence-transformers>=2.6.0->langchain-huggingface) (1.7.3)\n",
      "Requirement already satisfied: networkx in /Users/alexeyvaganov/opt/anaconda3/lib/python3.9/site-packages (from torch>=1.11.0->sentence-transformers>=2.6.0->langchain-huggingface) (2.7.1)\n",
      "Requirement already satisfied: jinja2 in /Users/alexeyvaganov/opt/anaconda3/lib/python3.9/site-packages (from torch>=1.11.0->sentence-transformers>=2.6.0->langchain-huggingface) (2.11.3)\n",
      "Requirement already satisfied: sympy in /Users/alexeyvaganov/opt/anaconda3/lib/python3.9/site-packages (from torch>=1.11.0->sentence-transformers>=2.6.0->langchain-huggingface) (1.10.1)\n",
      "Requirement already satisfied: numpy>=1.17 in /Users/alexeyvaganov/opt/anaconda3/lib/python3.9/site-packages (from transformers>=4.39.0->langchain-huggingface) (1.22.4)\n",
      "Requirement already satisfied: regex!=2019.12.17 in /Users/alexeyvaganov/opt/anaconda3/lib/python3.9/site-packages (from transformers>=4.39.0->langchain-huggingface) (2022.3.15)\n",
      "Requirement already satisfied: safetensors>=0.4.1 in /Users/alexeyvaganov/opt/anaconda3/lib/python3.9/site-packages (from transformers>=4.39.0->langchain-huggingface) (0.4.3)\n",
      "Requirement already satisfied: MarkupSafe>=0.23 in /Users/alexeyvaganov/opt/anaconda3/lib/python3.9/site-packages (from jinja2->torch>=1.11.0->sentence-transformers>=2.6.0->langchain-huggingface) (2.0.1)\n",
      "Requirement already satisfied: threadpoolctl>=2.0.0 in /Users/alexeyvaganov/opt/anaconda3/lib/python3.9/site-packages (from scikit-learn->sentence-transformers>=2.6.0->langchain-huggingface) (2.2.0)\n",
      "Requirement already satisfied: joblib>=0.11 in /Users/alexeyvaganov/opt/anaconda3/lib/python3.9/site-packages (from scikit-learn->sentence-transformers>=2.6.0->langchain-huggingface) (1.1.0)\n",
      "Requirement already satisfied: mpmath>=0.19 in /Users/alexeyvaganov/opt/anaconda3/lib/python3.9/site-packages (from sympy->torch>=1.11.0->sentence-transformers>=2.6.0->langchain-huggingface) (1.2.1)\n"
     ]
    },
    {
     "name": "stdout",
     "output_type": "stream",
     "text": [
      "Installing collected packages: langchain-huggingface\n",
      "Successfully installed langchain-huggingface-0.1.2\n",
      "Note: you may need to restart the kernel to use updated packages.\n"
     ]
    }
   ],
   "source": [
    "pip install langchain-huggingface"
   ]
  },
  {
   "cell_type": "code",
   "execution_count": 10,
   "id": "f7e03ddc",
   "metadata": {},
   "outputs": [
    {
     "name": "stdout",
     "output_type": "stream",
     "text": [
      "Collecting sentence-transformers\n",
      "  Downloading sentence_transformers-3.3.0-py3-none-any.whl (268 kB)\n",
      "\u001b[K     |████████████████████████████████| 268 kB 411 kB/s eta 0:00:01\n",
      "\u001b[?25hRequirement already satisfied: huggingface-hub>=0.20.0 in /Users/alexeyvaganov/opt/anaconda3/lib/python3.9/site-packages (from sentence-transformers) (0.22.2)\n",
      "Requirement already satisfied: Pillow in /Users/alexeyvaganov/opt/anaconda3/lib/python3.9/site-packages (from sentence-transformers) (10.3.0)\n",
      "Collecting torch>=1.11.0\n",
      "  Downloading torch-2.2.2-cp39-none-macosx_10_9_x86_64.whl (150.8 MB)\n",
      "\u001b[K     |████████████████████████████████| 150.8 MB 525 kB/s eta 0:00:01    |██▋                             | 12.1 MB 926 kB/s eta 0:02:30     |███▏                            | 15.1 MB 793 kB/s eta 0:02:51 MB 812 kB/s eta 0:01:33\n",
      "\u001b[?25hRequirement already satisfied: tqdm in /Users/alexeyvaganov/opt/anaconda3/lib/python3.9/site-packages (from sentence-transformers) (4.67.0)\n",
      "Requirement already satisfied: scipy in /Users/alexeyvaganov/opt/anaconda3/lib/python3.9/site-packages (from sentence-transformers) (1.7.3)\n",
      "Requirement already satisfied: scikit-learn in /Users/alexeyvaganov/opt/anaconda3/lib/python3.9/site-packages (from sentence-transformers) (1.0.2)\n",
      "Collecting transformers<5.0.0,>=4.41.0\n",
      "  Downloading transformers-4.46.2-py3-none-any.whl (10.0 MB)\n",
      "\u001b[K     |████████████████████████████████| 10.0 MB 505 kB/s eta 0:00:01\n",
      "\u001b[?25hRequirement already satisfied: fsspec>=2023.5.0 in /Users/alexeyvaganov/opt/anaconda3/lib/python3.9/site-packages (from huggingface-hub>=0.20.0->sentence-transformers) (2024.3.1)\n",
      "Requirement already satisfied: pyyaml>=5.1 in /Users/alexeyvaganov/opt/anaconda3/lib/python3.9/site-packages (from huggingface-hub>=0.20.0->sentence-transformers) (6.0)\n",
      "Requirement already satisfied: packaging>=20.9 in /Users/alexeyvaganov/opt/anaconda3/lib/python3.9/site-packages (from huggingface-hub>=0.20.0->sentence-transformers) (23.2)\n",
      "Requirement already satisfied: filelock in /Users/alexeyvaganov/opt/anaconda3/lib/python3.9/site-packages (from huggingface-hub>=0.20.0->sentence-transformers) (3.6.0)\n",
      "Requirement already satisfied: typing-extensions>=3.7.4.3 in /Users/alexeyvaganov/opt/anaconda3/lib/python3.9/site-packages (from huggingface-hub>=0.20.0->sentence-transformers) (4.12.2)\n",
      "Requirement already satisfied: requests in /Users/alexeyvaganov/opt/anaconda3/lib/python3.9/site-packages (from huggingface-hub>=0.20.0->sentence-transformers) (2.31.0)\n",
      "Requirement already satisfied: sympy in /Users/alexeyvaganov/opt/anaconda3/lib/python3.9/site-packages (from torch>=1.11.0->sentence-transformers) (1.10.1)\n",
      "Requirement already satisfied: networkx in /Users/alexeyvaganov/opt/anaconda3/lib/python3.9/site-packages (from torch>=1.11.0->sentence-transformers) (2.7.1)\n",
      "Requirement already satisfied: jinja2 in /Users/alexeyvaganov/opt/anaconda3/lib/python3.9/site-packages (from torch>=1.11.0->sentence-transformers) (2.11.3)\n",
      "Requirement already satisfied: numpy>=1.17 in /Users/alexeyvaganov/opt/anaconda3/lib/python3.9/site-packages (from transformers<5.0.0,>=4.41.0->sentence-transformers) (1.24.2)\n",
      "Requirement already satisfied: regex!=2019.12.17 in /Users/alexeyvaganov/opt/anaconda3/lib/python3.9/site-packages (from transformers<5.0.0,>=4.41.0->sentence-transformers) (2022.3.15)\n",
      "Requirement already satisfied: safetensors>=0.4.1 in /Users/alexeyvaganov/opt/anaconda3/lib/python3.9/site-packages (from transformers<5.0.0,>=4.41.0->sentence-transformers) (0.4.3)\n",
      "Collecting huggingface-hub>=0.20.0\n",
      "  Downloading huggingface_hub-0.26.2-py3-none-any.whl (447 kB)\n",
      "\u001b[K     |████████████████████████████████| 447 kB 615 kB/s eta 0:00:01\n",
      "\u001b[?25hCollecting tokenizers<0.21,>=0.20\n",
      "  Downloading tokenizers-0.20.3-cp39-cp39-macosx_10_12_x86_64.whl (2.7 MB)\n",
      "\u001b[K     |████████████████████████████████| 2.7 MB 306 kB/s eta 0:00:01\n",
      "\u001b[?25hRequirement already satisfied: MarkupSafe>=0.23 in /Users/alexeyvaganov/opt/anaconda3/lib/python3.9/site-packages (from jinja2->torch>=1.11.0->sentence-transformers) (2.0.1)\n",
      "Requirement already satisfied: urllib3<3,>=1.21.1 in /Users/alexeyvaganov/opt/anaconda3/lib/python3.9/site-packages (from requests->huggingface-hub>=0.20.0->sentence-transformers) (1.26.9)\n",
      "Requirement already satisfied: certifi>=2017.4.17 in /Users/alexeyvaganov/opt/anaconda3/lib/python3.9/site-packages (from requests->huggingface-hub>=0.20.0->sentence-transformers) (2024.2.2)\n",
      "Requirement already satisfied: charset-normalizer<4,>=2 in /Users/alexeyvaganov/opt/anaconda3/lib/python3.9/site-packages (from requests->huggingface-hub>=0.20.0->sentence-transformers) (2.0.4)\n",
      "Requirement already satisfied: idna<4,>=2.5 in /Users/alexeyvaganov/opt/anaconda3/lib/python3.9/site-packages (from requests->huggingface-hub>=0.20.0->sentence-transformers) (3.3)\n",
      "Requirement already satisfied: joblib>=0.11 in /Users/alexeyvaganov/opt/anaconda3/lib/python3.9/site-packages (from scikit-learn->sentence-transformers) (1.1.0)\n",
      "Requirement already satisfied: threadpoolctl>=2.0.0 in /Users/alexeyvaganov/opt/anaconda3/lib/python3.9/site-packages (from scikit-learn->sentence-transformers) (2.2.0)\n",
      "Collecting numpy>=1.17\n",
      "  Downloading numpy-1.22.4-cp39-cp39-macosx_10_15_x86_64.whl (17.7 MB)\n",
      "\u001b[K     |████████████████████████████████| 17.7 MB 420 kB/s eta 0:00:01     |██████████████████████████      | 14.4 MB 547 kB/s eta 0:00:06\n",
      "\u001b[?25hRequirement already satisfied: mpmath>=0.19 in /Users/alexeyvaganov/opt/anaconda3/lib/python3.9/site-packages (from sympy->torch>=1.11.0->sentence-transformers) (1.2.1)\n",
      "Installing collected packages: numpy, huggingface-hub, tokenizers, transformers, torch, sentence-transformers\n",
      "  Attempting uninstall: numpy\n",
      "    Found existing installation: numpy 1.24.2\n",
      "    Uninstalling numpy-1.24.2:\n",
      "      Successfully uninstalled numpy-1.24.2\n",
      "  Attempting uninstall: huggingface-hub\n",
      "    Found existing installation: huggingface-hub 0.22.2\n",
      "    Uninstalling huggingface-hub-0.22.2:\n",
      "      Successfully uninstalled huggingface-hub-0.22.2\n",
      "  Attempting uninstall: tokenizers\n",
      "    Found existing installation: tokenizers 0.15.2\n",
      "    Uninstalling tokenizers-0.15.2:\n",
      "      Successfully uninstalled tokenizers-0.15.2\n",
      "  Attempting uninstall: transformers\n",
      "    Found existing installation: transformers 4.39.3\n",
      "    Uninstalling transformers-4.39.3:\n",
      "      Successfully uninstalled transformers-4.39.3\n",
      "\u001b[31mERROR: pip's dependency resolver does not currently take into account all the packages that are installed. This behaviour is the source of the following dependency conflicts.\n",
      "daal4py 2021.5.0 requires daal==2021.4.0, which is not installed.\n",
      "to-ascii 6.0.1 requires numpy<2.0.0,>=1.23.1, but you have numpy 1.22.4 which is incompatible.\n",
      "to-ascii 6.0.1 requires pydantic<2.0.0,>=1.9.1, but you have pydantic 2.9.2 which is incompatible.\n",
      "tensorflow 2.13.0 requires protobuf!=4.21.0,!=4.21.1,!=4.21.2,!=4.21.3,!=4.21.4,!=4.21.5,<5.0.0dev,>=3.20.3, but you have protobuf 5.28.3 which is incompatible.\n",
      "tensorflow 2.13.0 requires typing-extensions<4.6.0,>=3.6.6, but you have typing-extensions 4.12.2 which is incompatible.\n",
      "numba 0.55.1 requires numpy<1.22,>=1.18, but you have numpy 1.22.4 which is incompatible.\n",
      "chromadb 0.5.18 requires numpy>=1.22.5, but you have numpy 1.22.4 which is incompatible.\u001b[0m\n",
      "Successfully installed huggingface-hub-0.26.2 numpy-1.22.4 sentence-transformers-3.3.0 tokenizers-0.20.3 torch-2.2.2 transformers-4.46.2\n",
      "Note: you may need to restart the kernel to use updated packages.\n"
     ]
    }
   ],
   "source": [
    "pip install sentence-transformers"
   ]
  },
  {
   "cell_type": "code",
   "execution_count": 8,
   "id": "9fbe9c48",
   "metadata": {},
   "outputs": [
    {
     "name": "stdout",
     "output_type": "stream",
     "text": [
      "Collecting pypdf\n",
      "  Downloading pypdf-5.1.0-py3-none-any.whl (297 kB)\n",
      "\u001b[K     |████████████████████████████████| 297 kB 682 kB/s eta 0:00:01\n",
      "\u001b[?25hRequirement already satisfied: typing_extensions>=4.0 in /Users/alexeyvaganov/opt/anaconda3/lib/python3.9/site-packages (from pypdf) (4.12.2)\n",
      "Installing collected packages: pypdf\n",
      "Successfully installed pypdf-5.1.0\n",
      "Note: you may need to restart the kernel to use updated packages.\n"
     ]
    }
   ],
   "source": [
    "pip install pypdf"
   ]
  },
  {
   "cell_type": "code",
   "execution_count": 6,
   "id": "b71cd9db",
   "metadata": {},
   "outputs": [
    {
     "name": "stdout",
     "output_type": "stream",
     "text": [
      "Collecting chromadb\n",
      "  Downloading chromadb-0.5.18-py3-none-any.whl (615 kB)\n",
      "\u001b[K     |████████████████████████████████| 615 kB 922 kB/s eta 0:00:01\n",
      "\u001b[?25hCollecting opentelemetry-sdk>=1.2.0\n",
      "  Downloading opentelemetry_sdk-1.28.1-py3-none-any.whl (118 kB)\n",
      "\u001b[K     |████████████████████████████████| 118 kB 10.6 MB/s eta 0:00:01\n",
      "\u001b[?25hCollecting onnxruntime>=1.14.1\n",
      "  Downloading onnxruntime-1.16.3-cp39-cp39-macosx_10_15_x86_64.whl (7.1 MB)\n",
      "\u001b[K     |████████████████████████████████| 7.1 MB 624 kB/s eta 0:00:011\n",
      "\u001b[?25hCollecting rich>=10.11.0\n",
      "  Downloading rich-13.9.4-py3-none-any.whl (242 kB)\n",
      "\u001b[K     |████████████████████████████████| 242 kB 3.9 MB/s eta 0:00:01\n",
      "\u001b[?25hCollecting tqdm>=4.65.0\n",
      "  Downloading tqdm-4.67.0-py3-none-any.whl (78 kB)\n",
      "\u001b[K     |████████████████████████████████| 78 kB 5.5 MB/s eta 0:00:011\n",
      "\u001b[?25hCollecting overrides>=7.3.1\n",
      "  Using cached overrides-7.7.0-py3-none-any.whl (17 kB)\n",
      "Requirement already satisfied: httpx>=0.27.0 in /Users/alexeyvaganov/opt/anaconda3/lib/python3.9/site-packages (from chromadb) (0.27.2)\n",
      "Requirement already satisfied: PyYAML>=6.0.0 in /Users/alexeyvaganov/opt/anaconda3/lib/python3.9/site-packages (from chromadb) (6.0)\n",
      "Collecting kubernetes>=28.1.0\n",
      "  Downloading kubernetes-31.0.0-py2.py3-none-any.whl (1.9 MB)\n",
      "\u001b[K     |████████████████████████████████| 1.9 MB 127 kB/s eta 0:00:01\n",
      "\u001b[?25hCollecting grpcio>=1.58.0\n",
      "  Downloading grpcio-1.67.1-cp39-cp39-macosx_10_9_universal2.whl (11.0 MB)\n",
      "\u001b[K     |████████████████████████████████| 11.0 MB 404 kB/s eta 0:00:01\n",
      "\u001b[?25hRequirement already satisfied: orjson>=3.9.12 in /Users/alexeyvaganov/opt/anaconda3/lib/python3.9/site-packages (from chromadb) (3.10.11)\n",
      "Requirement already satisfied: tokenizers>=0.13.2 in /Users/alexeyvaganov/opt/anaconda3/lib/python3.9/site-packages (from chromadb) (0.15.2)\n",
      "Collecting mmh3>=4.0.1\n",
      "  Downloading mmh3-5.0.1-cp39-cp39-macosx_10_9_x86_64.whl (38 kB)\n",
      "Collecting opentelemetry-exporter-otlp-proto-grpc>=1.2.0\n",
      "  Downloading opentelemetry_exporter_otlp_proto_grpc-1.28.1-py3-none-any.whl (18 kB)\n",
      "Collecting opentelemetry-instrumentation-fastapi>=0.41b0\n",
      "  Downloading opentelemetry_instrumentation_fastapi-0.49b1-py3-none-any.whl (12 kB)\n",
      "Collecting build>=1.0.3\n",
      "  Downloading build-1.2.2.post1-py3-none-any.whl (22 kB)\n",
      "Collecting pypika>=0.48.9\n",
      "  Using cached PyPika-0.48.9-py2.py3-none-any.whl\n",
      "Requirement already satisfied: pydantic>=1.9 in /Users/alexeyvaganov/opt/anaconda3/lib/python3.9/site-packages (from chromadb) (2.9.2)\n",
      "Collecting posthog>=2.4.0\n",
      "  Downloading posthog-3.7.0-py2.py3-none-any.whl (54 kB)\n",
      "\u001b[K     |████████████████████████████████| 54 kB 1.0 MB/s eta 0:00:01\n",
      "\u001b[?25hRequirement already satisfied: typing-extensions>=4.5.0 in /Users/alexeyvaganov/opt/anaconda3/lib/python3.9/site-packages (from chromadb) (4.12.2)\n",
      "Collecting importlib-resources\n",
      "  Downloading importlib_resources-6.4.5-py3-none-any.whl (36 kB)\n",
      "Collecting uvicorn[standard]>=0.18.3\n",
      "  Downloading uvicorn-0.32.0-py3-none-any.whl (63 kB)\n",
      "\u001b[K     |████████████████████████████████| 63 kB 695 kB/s eta 0:00:01\n",
      "\u001b[?25hRequirement already satisfied: numpy>=1.22.5 in /Users/alexeyvaganov/opt/anaconda3/lib/python3.9/site-packages (from chromadb) (1.24.2)\n",
      "Collecting fastapi>=0.95.2\n",
      "  Downloading fastapi-0.115.5-py3-none-any.whl (94 kB)\n",
      "\u001b[K     |████████████████████████████████| 94 kB 806 kB/s eta 0:00:011\n",
      "\u001b[?25hCollecting typer>=0.9.0\n",
      "  Downloading typer-0.13.0-py3-none-any.whl (44 kB)\n",
      "\u001b[K     |████████████████████████████████| 44 kB 877 kB/s eta 0:00:011\n",
      "\u001b[?25hCollecting chroma-hnswlib==0.7.6\n",
      "  Downloading chroma_hnswlib-0.7.6-cp39-cp39-macosx_10_9_x86_64.whl (195 kB)\n",
      "\u001b[K     |████████████████████████████████| 195 kB 927 kB/s eta 0:00:01\n",
      "\u001b[?25hRequirement already satisfied: tenacity>=8.2.3 in /Users/alexeyvaganov/opt/anaconda3/lib/python3.9/site-packages (from chromadb) (9.0.0)\n",
      "Collecting bcrypt>=4.0.1\n",
      "  Downloading bcrypt-4.2.0-cp39-abi3-macosx_10_12_universal2.whl (472 kB)\n",
      "\u001b[K     |████████████████████████████████| 472 kB 936 kB/s eta 0:00:01\n",
      "\u001b[?25hCollecting opentelemetry-api>=1.2.0\n",
      "  Downloading opentelemetry_api-1.28.1-py3-none-any.whl (64 kB)\n",
      "\u001b[K     |████████████████████████████████| 64 kB 1.3 MB/s eta 0:00:011\n",
      "\u001b[?25hCollecting pyproject_hooks\n",
      "  Downloading pyproject_hooks-1.2.0-py3-none-any.whl (10 kB)\n",
      "Requirement already satisfied: tomli>=1.1.0 in /Users/alexeyvaganov/opt/anaconda3/lib/python3.9/site-packages (from build>=1.0.3->chromadb) (1.2.2)\n",
      "Requirement already satisfied: importlib-metadata>=4.6 in /Users/alexeyvaganov/opt/anaconda3/lib/python3.9/site-packages (from build>=1.0.3->chromadb) (4.11.3)\n",
      "Requirement already satisfied: packaging>=19.1 in /Users/alexeyvaganov/opt/anaconda3/lib/python3.9/site-packages (from build>=1.0.3->chromadb) (23.2)\n",
      "Collecting starlette<0.42.0,>=0.40.0\n",
      "  Downloading starlette-0.41.2-py3-none-any.whl (73 kB)\n",
      "\u001b[K     |████████████████████████████████| 73 kB 1.0 MB/s eta 0:00:011\n",
      "\u001b[?25hRequirement already satisfied: idna in /Users/alexeyvaganov/opt/anaconda3/lib/python3.9/site-packages (from httpx>=0.27.0->chromadb) (3.3)\n",
      "Requirement already satisfied: certifi in /Users/alexeyvaganov/opt/anaconda3/lib/python3.9/site-packages (from httpx>=0.27.0->chromadb) (2024.2.2)\n",
      "Requirement already satisfied: anyio in /Users/alexeyvaganov/opt/anaconda3/lib/python3.9/site-packages (from httpx>=0.27.0->chromadb) (3.5.0)\n",
      "Requirement already satisfied: sniffio in /Users/alexeyvaganov/opt/anaconda3/lib/python3.9/site-packages (from httpx>=0.27.0->chromadb) (1.2.0)\n",
      "Requirement already satisfied: httpcore==1.* in /Users/alexeyvaganov/opt/anaconda3/lib/python3.9/site-packages (from httpx>=0.27.0->chromadb) (1.0.2)\n",
      "Requirement already satisfied: h11<0.15,>=0.13 in /Users/alexeyvaganov/opt/anaconda3/lib/python3.9/site-packages (from httpcore==1.*->httpx>=0.27.0->chromadb) (0.14.0)\n",
      "Requirement already satisfied: zipp>=0.5 in /Users/alexeyvaganov/opt/anaconda3/lib/python3.9/site-packages (from importlib-metadata>=4.6->build>=1.0.3->chromadb) (3.7.0)\n",
      "Collecting durationpy>=0.7\n",
      "  Downloading durationpy-0.9-py3-none-any.whl (3.5 kB)\n",
      "Requirement already satisfied: urllib3>=1.24.2 in /Users/alexeyvaganov/opt/anaconda3/lib/python3.9/site-packages (from kubernetes>=28.1.0->chromadb) (1.26.9)\n",
      "Requirement already satisfied: websocket-client!=0.40.0,!=0.41.*,!=0.42.*,>=0.32.0 in /Users/alexeyvaganov/opt/anaconda3/lib/python3.9/site-packages (from kubernetes>=28.1.0->chromadb) (0.58.0)\n",
      "Requirement already satisfied: google-auth>=1.0.1 in /Users/alexeyvaganov/opt/anaconda3/lib/python3.9/site-packages (from kubernetes>=28.1.0->chromadb) (2.22.0)\n",
      "Requirement already satisfied: requests in /Users/alexeyvaganov/opt/anaconda3/lib/python3.9/site-packages (from kubernetes>=28.1.0->chromadb) (2.31.0)\n",
      "Requirement already satisfied: requests-oauthlib in /Users/alexeyvaganov/opt/anaconda3/lib/python3.9/site-packages (from kubernetes>=28.1.0->chromadb) (1.3.1)\n",
      "Requirement already satisfied: oauthlib>=3.2.2 in /Users/alexeyvaganov/opt/anaconda3/lib/python3.9/site-packages (from kubernetes>=28.1.0->chromadb) (3.2.2)\n",
      "Requirement already satisfied: six>=1.9.0 in /Users/alexeyvaganov/opt/anaconda3/lib/python3.9/site-packages (from kubernetes>=28.1.0->chromadb) (1.16.0)\n",
      "Requirement already satisfied: python-dateutil>=2.5.3 in /Users/alexeyvaganov/opt/anaconda3/lib/python3.9/site-packages (from kubernetes>=28.1.0->chromadb) (2.8.2)\n",
      "Requirement already satisfied: cachetools<6.0,>=2.0.0 in /Users/alexeyvaganov/opt/anaconda3/lib/python3.9/site-packages (from google-auth>=1.0.1->kubernetes>=28.1.0->chromadb) (4.2.2)\n",
      "Requirement already satisfied: rsa<5,>=3.1.4 in /Users/alexeyvaganov/opt/anaconda3/lib/python3.9/site-packages (from google-auth>=1.0.1->kubernetes>=28.1.0->chromadb) (4.7.2)\n",
      "Requirement already satisfied: pyasn1-modules>=0.2.1 in /Users/alexeyvaganov/opt/anaconda3/lib/python3.9/site-packages (from google-auth>=1.0.1->kubernetes>=28.1.0->chromadb) (0.2.8)\n",
      "Requirement already satisfied: sympy in /Users/alexeyvaganov/opt/anaconda3/lib/python3.9/site-packages (from onnxruntime>=1.14.1->chromadb) (1.10.1)\n",
      "Requirement already satisfied: protobuf in /Users/alexeyvaganov/opt/anaconda3/lib/python3.9/site-packages (from onnxruntime>=1.14.1->chromadb) (4.24.2)\n",
      "Requirement already satisfied: flatbuffers in /Users/alexeyvaganov/opt/anaconda3/lib/python3.9/site-packages (from onnxruntime>=1.14.1->chromadb) (23.5.26)\n"
     ]
    },
    {
     "name": "stdout",
     "output_type": "stream",
     "text": [
      "Collecting coloredlogs\n",
      "  Using cached coloredlogs-15.0.1-py2.py3-none-any.whl (46 kB)\n",
      "Collecting importlib-metadata>=4.6\n",
      "  Downloading importlib_metadata-8.5.0-py3-none-any.whl (26 kB)\n",
      "Collecting deprecated>=1.2.6\n",
      "  Using cached Deprecated-1.2.14-py2.py3-none-any.whl (9.6 kB)\n",
      "Requirement already satisfied: wrapt<2,>=1.10 in /Users/alexeyvaganov/opt/anaconda3/lib/python3.9/site-packages (from deprecated>=1.2.6->opentelemetry-api>=1.2.0->chromadb) (1.12.1)\n",
      "Collecting zipp>=0.5\n",
      "  Downloading zipp-3.21.0-py3-none-any.whl (9.6 kB)\n",
      "Requirement already satisfied: googleapis-common-protos~=1.52 in /Users/alexeyvaganov/opt/anaconda3/lib/python3.9/site-packages (from opentelemetry-exporter-otlp-proto-grpc>=1.2.0->chromadb) (1.53.0)\n",
      "Collecting opentelemetry-exporter-otlp-proto-common==1.28.1\n",
      "  Downloading opentelemetry_exporter_otlp_proto_common-1.28.1-py3-none-any.whl (18 kB)\n",
      "Collecting opentelemetry-proto==1.28.1\n",
      "  Downloading opentelemetry_proto-1.28.1-py3-none-any.whl (55 kB)\n",
      "\u001b[K     |████████████████████████████████| 55 kB 1.8 MB/s eta 0:00:011\n",
      "\u001b[?25hCollecting protobuf\n",
      "  Downloading protobuf-5.28.3-cp38-abi3-macosx_10_9_universal2.whl (414 kB)\n",
      "\u001b[K     |████████████████████████████████| 414 kB 1.1 MB/s eta 0:00:01\n",
      "\u001b[?25hCollecting opentelemetry-util-http==0.49b1\n",
      "  Downloading opentelemetry_util_http-0.49b1-py3-none-any.whl (6.9 kB)\n",
      "Collecting opentelemetry-semantic-conventions==0.49b1\n",
      "  Downloading opentelemetry_semantic_conventions-0.49b1-py3-none-any.whl (159 kB)\n",
      "\u001b[K     |████████████████████████████████| 159 kB 1.1 MB/s eta 0:00:01\n",
      "\u001b[?25hCollecting opentelemetry-instrumentation-asgi==0.49b1\n",
      "  Downloading opentelemetry_instrumentation_asgi-0.49b1-py3-none-any.whl (16 kB)\n",
      "Collecting opentelemetry-instrumentation==0.49b1\n",
      "  Downloading opentelemetry_instrumentation-0.49b1-py3-none-any.whl (30 kB)\n",
      "Collecting asgiref~=3.0\n",
      "  Using cached asgiref-3.8.1-py3-none-any.whl (23 kB)\n",
      "Collecting monotonic>=1.5\n",
      "  Using cached monotonic-1.6-py2.py3-none-any.whl (8.2 kB)\n",
      "Collecting backoff>=1.10.0\n",
      "  Using cached backoff-2.2.1-py3-none-any.whl (15 kB)\n",
      "Requirement already satisfied: pyasn1<0.5.0,>=0.4.6 in /Users/alexeyvaganov/opt/anaconda3/lib/python3.9/site-packages (from pyasn1-modules>=0.2.1->google-auth>=1.0.1->kubernetes>=28.1.0->chromadb) (0.4.8)\n",
      "Requirement already satisfied: pydantic-core==2.23.4 in /Users/alexeyvaganov/opt/anaconda3/lib/python3.9/site-packages (from pydantic>=1.9->chromadb) (2.23.4)\n",
      "Requirement already satisfied: annotated-types>=0.6.0 in /Users/alexeyvaganov/opt/anaconda3/lib/python3.9/site-packages (from pydantic>=1.9->chromadb) (0.7.0)\n",
      "Requirement already satisfied: charset-normalizer<4,>=2 in /Users/alexeyvaganov/opt/anaconda3/lib/python3.9/site-packages (from requests->kubernetes>=28.1.0->chromadb) (2.0.4)\n",
      "Collecting markdown-it-py>=2.2.0\n",
      "  Using cached markdown_it_py-3.0.0-py3-none-any.whl (87 kB)\n",
      "Collecting pygments<3.0.0,>=2.13.0\n",
      "  Using cached pygments-2.18.0-py3-none-any.whl (1.2 MB)\n",
      "Collecting mdurl~=0.1\n",
      "  Using cached mdurl-0.1.2-py3-none-any.whl (10.0 kB)\n",
      "Requirement already satisfied: huggingface_hub<1.0,>=0.16.4 in /Users/alexeyvaganov/opt/anaconda3/lib/python3.9/site-packages (from tokenizers>=0.13.2->chromadb) (0.22.2)\n",
      "Requirement already satisfied: fsspec>=2023.5.0 in /Users/alexeyvaganov/opt/anaconda3/lib/python3.9/site-packages (from huggingface_hub<1.0,>=0.16.4->tokenizers>=0.13.2->chromadb) (2024.3.1)\n",
      "Requirement already satisfied: filelock in /Users/alexeyvaganov/opt/anaconda3/lib/python3.9/site-packages (from huggingface_hub<1.0,>=0.16.4->tokenizers>=0.13.2->chromadb) (3.6.0)\n",
      "Collecting shellingham>=1.3.0\n",
      "  Using cached shellingham-1.5.4-py2.py3-none-any.whl (9.8 kB)\n",
      "Requirement already satisfied: click>=8.0.0 in /Users/alexeyvaganov/opt/anaconda3/lib/python3.9/site-packages (from typer>=0.9.0->chromadb) (8.0.4)\n",
      "Collecting httptools>=0.5.0\n",
      "  Downloading httptools-0.6.4-cp39-cp39-macosx_10_9_universal2.whl (201 kB)\n",
      "\u001b[K     |████████████████████████████████| 201 kB 488 kB/s eta 0:00:01\n",
      "\u001b[?25hRequirement already satisfied: python-dotenv>=0.13 in /Users/alexeyvaganov/opt/anaconda3/lib/python3.9/site-packages (from uvicorn[standard]>=0.18.3->chromadb) (0.21.0)\n",
      "Collecting watchfiles>=0.13\n",
      "  Downloading watchfiles-0.24.0-cp39-cp39-macosx_10_12_x86_64.whl (375 kB)\n",
      "\u001b[K     |████████████████████████████████| 375 kB 978 kB/s eta 0:00:01\n",
      "\u001b[?25hCollecting uvloop!=0.15.0,!=0.15.1,>=0.14.0\n",
      "  Downloading uvloop-0.21.0-cp39-cp39-macosx_10_9_x86_64.whl (800 kB)\n",
      "\u001b[K     |████████████████████████████████| 800 kB 1.2 MB/s eta 0:00:01\n",
      "\u001b[?25hCollecting websockets>=10.4\n",
      "  Downloading websockets-14.1-cp39-cp39-macosx_10_9_x86_64.whl (159 kB)\n",
      "\u001b[K     |████████████████████████████████| 159 kB 793 kB/s eta 0:00:01\n",
      "\u001b[?25hCollecting humanfriendly>=9.1\n",
      "  Using cached humanfriendly-10.0-py2.py3-none-any.whl (86 kB)\n",
      "Requirement already satisfied: mpmath>=0.19 in /Users/alexeyvaganov/opt/anaconda3/lib/python3.9/site-packages (from sympy->onnxruntime>=1.14.1->chromadb) (1.2.1)\n",
      "Installing collected packages: zipp, importlib-metadata, deprecated, opentelemetry-api, protobuf, opentelemetry-semantic-conventions, mdurl, tqdm, pygments, opentelemetry-util-http, opentelemetry-proto, opentelemetry-instrumentation, markdown-it-py, humanfriendly, asgiref, websockets, watchfiles, uvloop, uvicorn, starlette, shellingham, rich, pyproject-hooks, opentelemetry-sdk, opentelemetry-instrumentation-asgi, opentelemetry-exporter-otlp-proto-common, monotonic, httptools, grpcio, durationpy, coloredlogs, backoff, typer, pypika, posthog, overrides, opentelemetry-instrumentation-fastapi, opentelemetry-exporter-otlp-proto-grpc, onnxruntime, mmh3, kubernetes, importlib-resources, fastapi, chroma-hnswlib, build, bcrypt, chromadb\n",
      "  Attempting uninstall: zipp\n",
      "    Found existing installation: zipp 3.7.0\n",
      "    Uninstalling zipp-3.7.0:\n",
      "      Successfully uninstalled zipp-3.7.0\n",
      "  Attempting uninstall: importlib-metadata\n",
      "    Found existing installation: importlib-metadata 4.11.3\n",
      "    Uninstalling importlib-metadata-4.11.3:\n",
      "      Successfully uninstalled importlib-metadata-4.11.3\n",
      "  Attempting uninstall: protobuf\n",
      "    Found existing installation: protobuf 4.24.2\n",
      "    Uninstalling protobuf-4.24.2:\n",
      "      Successfully uninstalled protobuf-4.24.2\n",
      "  Attempting uninstall: tqdm\n",
      "    Found existing installation: tqdm 4.64.0\n",
      "    Uninstalling tqdm-4.64.0:\n",
      "      Successfully uninstalled tqdm-4.64.0\n",
      "  Attempting uninstall: pygments\n",
      "    Found existing installation: Pygments 2.11.2\n",
      "    Uninstalling Pygments-2.11.2:\n",
      "      Successfully uninstalled Pygments-2.11.2\n",
      "  Attempting uninstall: grpcio\n",
      "    Found existing installation: grpcio 1.57.0\n",
      "    Uninstalling grpcio-1.57.0:\n",
      "      Successfully uninstalled grpcio-1.57.0\n",
      "  Attempting uninstall: bcrypt\n",
      "    Found existing installation: bcrypt 3.2.0\n",
      "    Uninstalling bcrypt-3.2.0:\n",
      "      Successfully uninstalled bcrypt-3.2.0\n",
      "\u001b[31mERROR: pip's dependency resolver does not currently take into account all the packages that are installed. This behaviour is the source of the following dependency conflicts.\n",
      "tensorflow 2.13.0 requires protobuf!=4.21.0,!=4.21.1,!=4.21.2,!=4.21.3,!=4.21.4,!=4.21.5,<5.0.0dev,>=3.20.3, but you have protobuf 5.28.3 which is incompatible.\n",
      "tensorflow 2.13.0 requires typing-extensions<4.6.0,>=3.6.6, but you have typing-extensions 4.12.2 which is incompatible.\n",
      "spyder 5.2.2 requires pyqt5<5.13, but you have pyqt5 5.15.10 which is incompatible.\n",
      "spyder 5.2.2 requires pyqtwebengine<5.13, but you have pyqtwebengine 5.15.6 which is incompatible.\n",
      "google-api-core 1.25.1 requires google-auth<2.0dev,>=1.21.1, but you have google-auth 2.22.0 which is incompatible.\n",
      "aext-core 0.4.0 requires jupyter-server<3,>=1.21, but you have jupyter-server 1.13.5 which is incompatible.\n",
      "aext-assistant 0.4.0 requires jupyter-server<3,>=1.21, but you have jupyter-server 1.13.5 which is incompatible.\u001b[0m\n",
      "Successfully installed asgiref-3.8.1 backoff-2.2.1 bcrypt-4.2.0 build-1.2.2.post1 chroma-hnswlib-0.7.6 chromadb-0.5.18 coloredlogs-15.0.1 deprecated-1.2.14 durationpy-0.9 fastapi-0.115.5 grpcio-1.67.1 httptools-0.6.4 humanfriendly-10.0 importlib-metadata-8.5.0 importlib-resources-6.4.5 kubernetes-31.0.0 markdown-it-py-3.0.0 mdurl-0.1.2 mmh3-5.0.1 monotonic-1.6 onnxruntime-1.16.3 opentelemetry-api-1.28.1 opentelemetry-exporter-otlp-proto-common-1.28.1 opentelemetry-exporter-otlp-proto-grpc-1.28.1 opentelemetry-instrumentation-0.49b1 opentelemetry-instrumentation-asgi-0.49b1 opentelemetry-instrumentation-fastapi-0.49b1 opentelemetry-proto-1.28.1 opentelemetry-sdk-1.28.1 opentelemetry-semantic-conventions-0.49b1 opentelemetry-util-http-0.49b1 overrides-7.7.0 posthog-3.7.0 protobuf-5.28.3 pygments-2.18.0 pypika-0.48.9 pyproject-hooks-1.2.0 rich-13.9.4 shellingham-1.5.4 starlette-0.41.2 tqdm-4.67.0 typer-0.13.0 uvicorn-0.32.0 uvloop-0.21.0 watchfiles-0.24.0 websockets-14.1 zipp-3.21.0\n"
     ]
    },
    {
     "name": "stdout",
     "output_type": "stream",
     "text": [
      "Note: you may need to restart the kernel to use updated packages.\n"
     ]
    }
   ],
   "source": [
    "pip install chromadb"
   ]
  },
  {
   "cell_type": "code",
   "execution_count": null,
   "id": "987d4b90",
   "metadata": {},
   "outputs": [],
   "source": []
  }
 ],
 "metadata": {
  "kernelspec": {
   "display_name": "Python 3 (ipykernel)",
   "language": "python",
   "name": "python3"
  },
  "language_info": {
   "codemirror_mode": {
    "name": "ipython",
    "version": 3
   },
   "file_extension": ".py",
   "mimetype": "text/x-python",
   "name": "python",
   "nbconvert_exporter": "python",
   "pygments_lexer": "ipython3",
   "version": "3.9.10"
  }
 },
 "nbformat": 4,
 "nbformat_minor": 5
}
