{
 "cells": [
  {
   "cell_type": "code",
   "execution_count": 1,
   "id": "d91c9771",
   "metadata": {},
   "outputs": [],
   "source": [
    "from langchain_ollama import OllamaLLM\n",
    "from langchain.callbacks.manager import CallbackManager\n",
    "from langchain.callbacks.streaming_stdout import StreamingStdOutCallbackHandler\n",
    "from langchain import PromptTemplate\n",
    "from langchain.schema import HumanMessage"
   ]
  },
  {
   "cell_type": "code",
   "execution_count": 2,
   "id": "46b1ea55",
   "metadata": {},
   "outputs": [],
   "source": [
    "llm = OllamaLLM(\n",
    "    model=\"llama3\", callback_manager=CallbackManager([StreamingStdOutCallbackHandler()]), temperature = \"0.1\"\n",
    ")"
   ]
  },
  {
   "cell_type": "code",
   "execution_count": 3,
   "id": "5ca0dd02",
   "metadata": {},
   "outputs": [
    {
     "name": "stdout",
     "output_type": "stream",
     "text": [
      "Столица России - Москва!"
     ]
    },
    {
     "data": {
      "text/plain": [
       "'Столица России - Москва!'"
      ]
     },
     "execution_count": 3,
     "metadata": {},
     "output_type": "execute_result"
    }
   ],
   "source": [
    "llm.invoke('''Назови столицу России''')"
   ]
  },
  {
   "cell_type": "code",
   "execution_count": 4,
   "id": "dc3b7074",
   "metadata": {},
   "outputs": [
    {
     "name": "stdout",
     "output_type": "stream",
     "text": [
      "I can help you break down the text into smaller parts based on paragraphs or logical sections. Here's one way to do it:\n",
      "\n",
      "**Part 1: Document \"Принятие к учету ОС\" (Control Procedure)**\n",
      "\n",
      "* Доработка документа \"Принятие к учету ОС\" добавить функцию проверки:\n",
      "* ... (rest of the text)\n",
      "\n",
      "**Part 2: Condition for \"Прослеживаемый товар\"**\n",
      "\n",
      "* Если в документе в реквизите \"Оборудование\" в карточке выбранной номенклатуры в реквизите \"Маркировка и контроль\" установлено значение \"Прослеживаемый товар\" или \"Прослеживаемый товар(ы) в составе комплекта\"\n",
      "* Тогда в карточке ОС должно быть ПрослеживаемыйТовар=Истина и Справочник Основные средства. КодТНВЭД=Справочник номенклатура. КодТНВЭД\n",
      "* Если не проходит проверка блокируется проведение и выдается сообщение пользователю \"В карточке номенклатуры установлено значение прослеживаемого товара и ТНВЭД ______, проверьте в карточке принимаемого ОС значение реквизита \"Прослеживаемый товар\" и \"ТНВЭД\"\n",
      "\n",
      "**Part 3: Document \"Безвозмездная передача\" (Control Procedure)**\n",
      "\n",
      "* Доработка документа \"Безвозмездная передача\" (Контрольная процедура проверки заполненности реквизита \"Код операции\" в шапке документа при наличии строки в документе со ставкой НДС \"Без НДС\"):\n",
      "* Если в табличной части документа имеются строки со ставкой \"без НДС\", тогда блокируется проведение документа и выводиться сообщение пользователю \"В строке №____ установлена ставка \"Без НДС\", в шапке документе необходимо заполнить реквизит «Код операции»\"."
     ]
    },
    {
     "data": {
      "text/plain": [
       "'I can help you break down the text into smaller parts based on paragraphs or logical sections. Here\\'s one way to do it:\\n\\n**Part 1: Document \"Принятие к учету ОС\" (Control Procedure)**\\n\\n* Доработка документа \"Принятие к учету ОС\" добавить функцию проверки:\\n* ... (rest of the text)\\n\\n**Part 2: Condition for \"Прослеживаемый товар\"**\\n\\n* Если в документе в реквизите \"Оборудование\" в карточке выбранной номенклатуры в реквизите \"Маркировка и контроль\" установлено значение \"Прослеживаемый товар\" или \"Прослеживаемый товар(ы) в составе комплекта\"\\n* Тогда в карточке ОС должно быть ПрослеживаемыйТовар=Истина и Справочник Основные средства. КодТНВЭД=Справочник номенклатура. КодТНВЭД\\n* Если не проходит проверка блокируется проведение и выдается сообщение пользователю \"В карточке номенклатуры установлено значение прослеживаемого товара и ТНВЭД ______, проверьте в карточке принимаемого ОС значение реквизита \"Прослеживаемый товар\" и \"ТНВЭД\"\\n\\n**Part 3: Document \"Безвозмездная передача\" (Control Procedure)**\\n\\n* Доработка документа \"Безвозмездная передача\" (Контрольная процедура проверки заполненности реквизита \"Код операции\" в шапке документа при наличии строки в документе со ставкой НДС \"Без НДС\"):\\n* Если в табличной части документа имеются строки со ставкой \"без НДС\", тогда блокируется проведение документа и выводиться сообщение пользователю \"В строке №____ установлена ставка \"Без НДС\", в шапке документе необходимо заполнить реквизит «Код операции»\".'"
      ]
     },
     "execution_count": 4,
     "metadata": {},
     "output_type": "execute_result"
    }
   ],
   "source": [
    "llm.invoke('''Ниже указан текст. Разбей его на части по абзацам или по смыслу\n",
    "text:\n",
    "\n",
    "Доработка документа \"Принятие к учету ОС\"(Контрольная процедура):\n",
    "При проведении документа \"Принятие к учету ОС\" добавить функцию проверки:\n",
    "Если в документе в реквизите \"Оборудование\" в карточке выбранной номенклатуры в реквизите \"Маркировка и контроль\" установлено значение \"Прослеживаемый товар\" или \"Прослеживаемый товар(ы) в составе комплекта\" \n",
    "Тогда в карточке ОС должно быть ПрослеживаемыйТовар=Истина и Справочник Основные средства.КодТНВЭД=Справочник номенклатура.КодТНВЭД \n",
    "\n",
    "Если не проходит проверка блокируется проведение и выдается сообщение пользователю \"В карточке номенклатуры установлено значение прослеживаемого товара и ТНВЭД ______, проверьте в карточке принимаемого ОС значение реквизита \"Прослеживаемый товар\" и \"ТНВЭД\"\"\n",
    "\n",
    "Доработка документа \"Безвозмездная передача\" (Контрольная процедура проверки заполненности реквизита \"Код операции\" в шапке документа при наличии строки в документе со ставкой НДС \"Без НДС\"):\n",
    "Если в табличной части документа имеются строки со ставкой \"без НДС\", тогда блокируется проведение документа и выводиться сообщение пользователю \"В строке №____ установлена ставка \"Без НДС\", в шапке документе необходимо заполнить реквизит «Код операции»\".\n",
    "\n",
    "\n",
    "''')"
   ]
  },
  {
   "cell_type": "markdown",
   "id": "509754fa",
   "metadata": {},
   "source": [
    "# УСТАНОВКА ПАКЕТОВ"
   ]
  },
  {
   "cell_type": "code",
   "execution_count": 3,
   "id": "b98cf38d",
   "metadata": {},
   "outputs": [
    {
     "name": "stdout",
     "output_type": "stream",
     "text": [
      "Collecting langchain-community\n",
      "  Downloading langchain_community-0.3.5-py3-none-any.whl (2.4 MB)\n",
      "\u001b[K     |████████████████████████████████| 2.4 MB 399 kB/s eta 0:00:01\n",
      "\u001b[?25hCollecting langchain-core\n",
      "  Downloading langchain_core-0.3.15-py3-none-any.whl (408 kB)\n",
      "\u001b[K     |████████████████████████████████| 408 kB 364 kB/s eta 0:00:01\n",
      "\u001b[?25hRequirement already satisfied: SQLAlchemy<2.0.36,>=1.4 in /Users/alexeyvaganov/opt/anaconda3/lib/python3.9/site-packages (from langchain-community) (1.4.32)\n",
      "Collecting pydantic-settings<3.0.0,>=2.4.0\n",
      "  Downloading pydantic_settings-2.6.1-py3-none-any.whl (28 kB)\n",
      "Collecting tenacity!=8.4.0,<10,>=8.1.0\n",
      "  Downloading tenacity-9.0.0-py3-none-any.whl (28 kB)\n",
      "Collecting aiohttp<4.0.0,>=3.8.3\n",
      "  Downloading aiohttp-3.10.10-cp39-cp39-macosx_10_9_x86_64.whl (400 kB)\n",
      "\u001b[K     |████████████████████████████████| 400 kB 658 kB/s eta 0:00:01\n",
      "\u001b[?25hRequirement already satisfied: numpy<2,>=1 in /Users/alexeyvaganov/opt/anaconda3/lib/python3.9/site-packages (from langchain-community) (1.24.2)\n",
      "Collecting langsmith<0.2.0,>=0.1.125\n",
      "  Downloading langsmith-0.1.142-py3-none-any.whl (306 kB)\n",
      "\u001b[K     |████████████████████████████████| 306 kB 342 kB/s eta 0:00:01\n",
      "\u001b[?25hRequirement already satisfied: requests<3,>=2 in /Users/alexeyvaganov/opt/anaconda3/lib/python3.9/site-packages (from langchain-community) (2.31.0)\n",
      "Collecting langchain<0.4.0,>=0.3.6\n",
      "  Downloading langchain-0.3.7-py3-none-any.whl (1.0 MB)\n",
      "\u001b[K     |████████████████████████████████| 1.0 MB 349 kB/s eta 0:00:01\n",
      "\u001b[?25hRequirement already satisfied: PyYAML>=5.3 in /Users/alexeyvaganov/opt/anaconda3/lib/python3.9/site-packages (from langchain-community) (6.0)\n",
      "Collecting dataclasses-json<0.7,>=0.5.7\n",
      "  Downloading dataclasses_json-0.6.7-py3-none-any.whl (28 kB)\n",
      "Collecting httpx-sse<0.5.0,>=0.4.0\n",
      "  Downloading httpx_sse-0.4.0-py3-none-any.whl (7.8 kB)\n",
      "Requirement already satisfied: jsonpatch<2.0,>=1.33 in /Users/alexeyvaganov/opt/anaconda3/lib/python3.9/site-packages (from langchain-core) (1.33)\n",
      "Collecting pydantic<3.0.0,>=2.5.2\n",
      "  Downloading pydantic-2.9.2-py3-none-any.whl (434 kB)\n",
      "\u001b[K     |████████████████████████████████| 434 kB 314 kB/s eta 0:00:01\n",
      "\u001b[?25hRequirement already satisfied: packaging<25,>=23.2 in /Users/alexeyvaganov/opt/anaconda3/lib/python3.9/site-packages (from langchain-core) (23.2)\n",
      "Collecting typing-extensions>=4.7\n",
      "  Downloading typing_extensions-4.12.2-py3-none-any.whl (37 kB)\n",
      "Requirement already satisfied: attrs>=17.3.0 in /Users/alexeyvaganov/opt/anaconda3/lib/python3.9/site-packages (from aiohttp<4.0.0,>=3.8.3->langchain-community) (23.1.0)\n",
      "Requirement already satisfied: multidict<7.0,>=4.5 in /Users/alexeyvaganov/opt/anaconda3/lib/python3.9/site-packages (from aiohttp<4.0.0,>=3.8.3->langchain-community) (5.2.0)\n",
      "Collecting aiohappyeyeballs>=2.3.0\n",
      "  Downloading aiohappyeyeballs-2.4.3-py3-none-any.whl (14 kB)\n",
      "Requirement already satisfied: async-timeout<5.0,>=4.0 in /Users/alexeyvaganov/opt/anaconda3/lib/python3.9/site-packages (from aiohttp<4.0.0,>=3.8.3->langchain-community) (4.0.1)\n",
      "Collecting yarl<2.0,>=1.12.0\n",
      "  Downloading yarl-1.17.1-cp39-cp39-macosx_10_9_x86_64.whl (94 kB)\n",
      "\u001b[K     |████████████████████████████████| 94 kB 463 kB/s eta 0:00:01\n",
      "\u001b[?25hRequirement already satisfied: aiosignal>=1.1.2 in /Users/alexeyvaganov/opt/anaconda3/lib/python3.9/site-packages (from aiohttp<4.0.0,>=3.8.3->langchain-community) (1.2.0)\n",
      "Requirement already satisfied: frozenlist>=1.1.1 in /Users/alexeyvaganov/opt/anaconda3/lib/python3.9/site-packages (from aiohttp<4.0.0,>=3.8.3->langchain-community) (1.2.0)\n",
      "Collecting marshmallow<4.0.0,>=3.18.0\n",
      "  Downloading marshmallow-3.23.1-py3-none-any.whl (49 kB)\n",
      "\u001b[K     |████████████████████████████████| 49 kB 504 kB/s eta 0:00:01\n",
      "\u001b[?25hCollecting typing-inspect<1,>=0.4.0\n",
      "  Using cached typing_inspect-0.9.0-py3-none-any.whl (8.8 kB)\n",
      "Requirement already satisfied: jsonpointer>=1.9 in /Users/alexeyvaganov/opt/anaconda3/lib/python3.9/site-packages (from jsonpatch<2.0,>=1.33->langchain-core) (2.1)\n",
      "Collecting langchain-text-splitters<0.4.0,>=0.3.0\n",
      "  Downloading langchain_text_splitters-0.3.2-py3-none-any.whl (25 kB)\n",
      "Requirement already satisfied: httpx<1,>=0.23.0 in /Users/alexeyvaganov/opt/anaconda3/lib/python3.9/site-packages (from langsmith<0.2.0,>=0.1.125->langchain-community) (0.26.0)\n",
      "Collecting requests-toolbelt<2.0.0,>=1.0.0\n",
      "  Downloading requests_toolbelt-1.0.0-py2.py3-none-any.whl (54 kB)\n",
      "\u001b[K     |████████████████████████████████| 54 kB 116 kB/s eta 0:00:01\n",
      "\u001b[?25hCollecting orjson<4.0.0,>=3.9.14\n",
      "  Downloading orjson-3.10.11-cp39-cp39-macosx_10_15_x86_64.macosx_11_0_arm64.macosx_10_15_universal2.whl (266 kB)\n",
      "\u001b[K     |████████████████████████████████| 266 kB 373 kB/s eta 0:00:01\n",
      "\u001b[?25hRequirement already satisfied: anyio in /Users/alexeyvaganov/opt/anaconda3/lib/python3.9/site-packages (from httpx<1,>=0.23.0->langsmith<0.2.0,>=0.1.125->langchain-community) (3.5.0)\n",
      "Requirement already satisfied: sniffio in /Users/alexeyvaganov/opt/anaconda3/lib/python3.9/site-packages (from httpx<1,>=0.23.0->langsmith<0.2.0,>=0.1.125->langchain-community) (1.2.0)\n",
      "Requirement already satisfied: httpcore==1.* in /Users/alexeyvaganov/opt/anaconda3/lib/python3.9/site-packages (from httpx<1,>=0.23.0->langsmith<0.2.0,>=0.1.125->langchain-community) (1.0.2)\n",
      "Requirement already satisfied: certifi in /Users/alexeyvaganov/opt/anaconda3/lib/python3.9/site-packages (from httpx<1,>=0.23.0->langsmith<0.2.0,>=0.1.125->langchain-community) (2024.2.2)\n",
      "Requirement already satisfied: idna in /Users/alexeyvaganov/opt/anaconda3/lib/python3.9/site-packages (from httpx<1,>=0.23.0->langsmith<0.2.0,>=0.1.125->langchain-community) (3.3)\n",
      "Requirement already satisfied: h11<0.15,>=0.13 in /Users/alexeyvaganov/opt/anaconda3/lib/python3.9/site-packages (from httpcore==1.*->httpx<1,>=0.23.0->langsmith<0.2.0,>=0.1.125->langchain-community) (0.14.0)\n",
      "Collecting pydantic-core==2.23.4\n",
      "  Downloading pydantic_core-2.23.4-cp39-cp39-macosx_10_12_x86_64.whl (1.9 MB)\n",
      "\u001b[K     |████████████████████████████████| 1.9 MB 354 kB/s eta 0:00:01\n",
      "\u001b[?25hCollecting annotated-types>=0.6.0\n",
      "  Downloading annotated_types-0.7.0-py3-none-any.whl (13 kB)\n",
      "Requirement already satisfied: python-dotenv>=0.21.0 in /Users/alexeyvaganov/opt/anaconda3/lib/python3.9/site-packages (from pydantic-settings<3.0.0,>=2.4.0->langchain-community) (0.21.0)\n",
      "Requirement already satisfied: urllib3<3,>=1.21.1 in /Users/alexeyvaganov/opt/anaconda3/lib/python3.9/site-packages (from requests<3,>=2->langchain-community) (1.26.9)\n",
      "Requirement already satisfied: charset-normalizer<4,>=2 in /Users/alexeyvaganov/opt/anaconda3/lib/python3.9/site-packages (from requests<3,>=2->langchain-community) (2.0.4)\n",
      "Requirement already satisfied: greenlet!=0.4.17 in /Users/alexeyvaganov/opt/anaconda3/lib/python3.9/site-packages (from SQLAlchemy<2.0.36,>=1.4->langchain-community) (1.1.1)\n",
      "Requirement already satisfied: mypy-extensions>=0.3.0 in /Users/alexeyvaganov/opt/anaconda3/lib/python3.9/site-packages (from typing-inspect<1,>=0.4.0->dataclasses-json<0.7,>=0.5.7->langchain-community) (0.4.3)\n",
      "Collecting propcache>=0.2.0\n",
      "  Downloading propcache-0.2.0-cp39-cp39-macosx_10_9_x86_64.whl (46 kB)\n",
      "\u001b[K     |████████████████████████████████| 46 kB 612 kB/s eta 0:00:01\n",
      "\u001b[?25hInstalling collected packages: typing-extensions, pydantic-core, annotated-types, requests-toolbelt, pydantic, orjson, tenacity, propcache, langsmith, yarl, langchain-core, aiohappyeyeballs, typing-inspect, marshmallow, langchain-text-splitters, aiohttp, pydantic-settings, langchain, httpx-sse, dataclasses-json, langchain-community\n",
      "  Attempting uninstall: typing-extensions\n",
      "    Found existing installation: typing-extensions 4.5.0\n",
      "    Uninstalling typing-extensions-4.5.0:\n",
      "      Successfully uninstalled typing-extensions-4.5.0\n",
      "  Attempting uninstall: pydantic\n",
      "    Found existing installation: pydantic 1.10.5\n",
      "    Uninstalling pydantic-1.10.5:\n",
      "      Successfully uninstalled pydantic-1.10.5\n",
      "  Attempting uninstall: tenacity\n",
      "    Found existing installation: tenacity 8.0.1\n",
      "    Uninstalling tenacity-8.0.1:\n",
      "      Successfully uninstalled tenacity-8.0.1\n",
      "  Attempting uninstall: yarl\n",
      "    Found existing installation: yarl 1.6.3\n",
      "    Uninstalling yarl-1.6.3:\n",
      "      Successfully uninstalled yarl-1.6.3\n",
      "  Attempting uninstall: aiohttp\n",
      "    Found existing installation: aiohttp 3.8.1\n"
     ]
    },
    {
     "name": "stdout",
     "output_type": "stream",
     "text": [
      "    Uninstalling aiohttp-3.8.1:\n",
      "      Successfully uninstalled aiohttp-3.8.1\n",
      "\u001b[31mERROR: pip's dependency resolver does not currently take into account all the packages that are installed. This behaviour is the source of the following dependency conflicts.\n",
      "to-ascii 6.0.1 requires pydantic<2.0.0,>=1.9.1, but you have pydantic 2.9.2 which is incompatible.\n",
      "tensorflow 2.13.0 requires typing-extensions<4.6.0,>=3.6.6, but you have typing-extensions 4.12.2 which is incompatible.\u001b[0m\n",
      "Successfully installed aiohappyeyeballs-2.4.3 aiohttp-3.10.10 annotated-types-0.7.0 dataclasses-json-0.6.7 httpx-sse-0.4.0 langchain-0.3.7 langchain-community-0.3.5 langchain-core-0.3.15 langchain-text-splitters-0.3.2 langsmith-0.1.142 marshmallow-3.23.1 orjson-3.10.11 propcache-0.2.0 pydantic-2.9.2 pydantic-core-2.23.4 pydantic-settings-2.6.1 requests-toolbelt-1.0.0 tenacity-9.0.0 typing-extensions-4.12.2 typing-inspect-0.9.0 yarl-1.17.1\n",
      "Note: you may need to restart the kernel to use updated packages.\n"
     ]
    }
   ],
   "source": [
    "pip install langchain-community langchain-core"
   ]
  },
  {
   "cell_type": "code",
   "execution_count": 7,
   "id": "33853a76",
   "metadata": {},
   "outputs": [
    {
     "name": "stdout",
     "output_type": "stream",
     "text": [
      "Collecting langchain-ollama\n",
      "  Downloading langchain_ollama-0.2.0-py3-none-any.whl (14 kB)\n",
      "Collecting ollama<1,>=0.3.0\n",
      "  Downloading ollama-0.3.3-py3-none-any.whl (10 kB)\n",
      "Requirement already satisfied: langchain-core<0.4.0,>=0.3.0 in /Users/alexeyvaganov/opt/anaconda3/lib/python3.9/site-packages (from langchain-ollama) (0.3.15)\n",
      "Requirement already satisfied: typing-extensions>=4.7 in /Users/alexeyvaganov/opt/anaconda3/lib/python3.9/site-packages (from langchain-core<0.4.0,>=0.3.0->langchain-ollama) (4.12.2)\n",
      "Requirement already satisfied: packaging<25,>=23.2 in /Users/alexeyvaganov/opt/anaconda3/lib/python3.9/site-packages (from langchain-core<0.4.0,>=0.3.0->langchain-ollama) (23.2)\n",
      "Requirement already satisfied: jsonpatch<2.0,>=1.33 in /Users/alexeyvaganov/opt/anaconda3/lib/python3.9/site-packages (from langchain-core<0.4.0,>=0.3.0->langchain-ollama) (1.33)\n",
      "Requirement already satisfied: langsmith<0.2.0,>=0.1.125 in /Users/alexeyvaganov/opt/anaconda3/lib/python3.9/site-packages (from langchain-core<0.4.0,>=0.3.0->langchain-ollama) (0.1.142)\n",
      "Requirement already satisfied: pydantic<3.0.0,>=2.5.2 in /Users/alexeyvaganov/opt/anaconda3/lib/python3.9/site-packages (from langchain-core<0.4.0,>=0.3.0->langchain-ollama) (2.9.2)\n",
      "Requirement already satisfied: tenacity!=8.4.0,<10.0.0,>=8.1.0 in /Users/alexeyvaganov/opt/anaconda3/lib/python3.9/site-packages (from langchain-core<0.4.0,>=0.3.0->langchain-ollama) (9.0.0)\n",
      "Requirement already satisfied: PyYAML>=5.3 in /Users/alexeyvaganov/opt/anaconda3/lib/python3.9/site-packages (from langchain-core<0.4.0,>=0.3.0->langchain-ollama) (6.0)\n",
      "Requirement already satisfied: jsonpointer>=1.9 in /Users/alexeyvaganov/opt/anaconda3/lib/python3.9/site-packages (from jsonpatch<2.0,>=1.33->langchain-core<0.4.0,>=0.3.0->langchain-ollama) (2.1)\n",
      "Requirement already satisfied: httpx<1,>=0.23.0 in /Users/alexeyvaganov/opt/anaconda3/lib/python3.9/site-packages (from langsmith<0.2.0,>=0.1.125->langchain-core<0.4.0,>=0.3.0->langchain-ollama) (0.26.0)\n",
      "Requirement already satisfied: requests<3,>=2 in /Users/alexeyvaganov/opt/anaconda3/lib/python3.9/site-packages (from langsmith<0.2.0,>=0.1.125->langchain-core<0.4.0,>=0.3.0->langchain-ollama) (2.31.0)\n",
      "Requirement already satisfied: orjson<4.0.0,>=3.9.14 in /Users/alexeyvaganov/opt/anaconda3/lib/python3.9/site-packages (from langsmith<0.2.0,>=0.1.125->langchain-core<0.4.0,>=0.3.0->langchain-ollama) (3.10.11)\n",
      "Requirement already satisfied: requests-toolbelt<2.0.0,>=1.0.0 in /Users/alexeyvaganov/opt/anaconda3/lib/python3.9/site-packages (from langsmith<0.2.0,>=0.1.125->langchain-core<0.4.0,>=0.3.0->langchain-ollama) (1.0.0)\n",
      "Requirement already satisfied: certifi in /Users/alexeyvaganov/opt/anaconda3/lib/python3.9/site-packages (from httpx<1,>=0.23.0->langsmith<0.2.0,>=0.1.125->langchain-core<0.4.0,>=0.3.0->langchain-ollama) (2024.2.2)\n",
      "Requirement already satisfied: httpcore==1.* in /Users/alexeyvaganov/opt/anaconda3/lib/python3.9/site-packages (from httpx<1,>=0.23.0->langsmith<0.2.0,>=0.1.125->langchain-core<0.4.0,>=0.3.0->langchain-ollama) (1.0.2)\n",
      "Requirement already satisfied: anyio in /Users/alexeyvaganov/opt/anaconda3/lib/python3.9/site-packages (from httpx<1,>=0.23.0->langsmith<0.2.0,>=0.1.125->langchain-core<0.4.0,>=0.3.0->langchain-ollama) (3.5.0)\n",
      "Requirement already satisfied: sniffio in /Users/alexeyvaganov/opt/anaconda3/lib/python3.9/site-packages (from httpx<1,>=0.23.0->langsmith<0.2.0,>=0.1.125->langchain-core<0.4.0,>=0.3.0->langchain-ollama) (1.2.0)\n",
      "Requirement already satisfied: idna in /Users/alexeyvaganov/opt/anaconda3/lib/python3.9/site-packages (from httpx<1,>=0.23.0->langsmith<0.2.0,>=0.1.125->langchain-core<0.4.0,>=0.3.0->langchain-ollama) (3.3)\n",
      "Requirement already satisfied: h11<0.15,>=0.13 in /Users/alexeyvaganov/opt/anaconda3/lib/python3.9/site-packages (from httpcore==1.*->httpx<1,>=0.23.0->langsmith<0.2.0,>=0.1.125->langchain-core<0.4.0,>=0.3.0->langchain-ollama) (0.14.0)\n",
      "Collecting httpx<1,>=0.23.0\n",
      "  Downloading httpx-0.27.2-py3-none-any.whl (76 kB)\n",
      "\u001b[K     |████████████████████████████████| 76 kB 584 kB/s eta 0:00:01\n",
      "\u001b[?25hRequirement already satisfied: annotated-types>=0.6.0 in /Users/alexeyvaganov/opt/anaconda3/lib/python3.9/site-packages (from pydantic<3.0.0,>=2.5.2->langchain-core<0.4.0,>=0.3.0->langchain-ollama) (0.7.0)\n",
      "Requirement already satisfied: pydantic-core==2.23.4 in /Users/alexeyvaganov/opt/anaconda3/lib/python3.9/site-packages (from pydantic<3.0.0,>=2.5.2->langchain-core<0.4.0,>=0.3.0->langchain-ollama) (2.23.4)\n",
      "Requirement already satisfied: charset-normalizer<4,>=2 in /Users/alexeyvaganov/opt/anaconda3/lib/python3.9/site-packages (from requests<3,>=2->langsmith<0.2.0,>=0.1.125->langchain-core<0.4.0,>=0.3.0->langchain-ollama) (2.0.4)\n",
      "Requirement already satisfied: urllib3<3,>=1.21.1 in /Users/alexeyvaganov/opt/anaconda3/lib/python3.9/site-packages (from requests<3,>=2->langsmith<0.2.0,>=0.1.125->langchain-core<0.4.0,>=0.3.0->langchain-ollama) (1.26.9)\n",
      "Installing collected packages: httpx, ollama, langchain-ollama\n",
      "  Attempting uninstall: httpx\n",
      "    Found existing installation: httpx 0.26.0\n",
      "    Uninstalling httpx-0.26.0:\n",
      "      Successfully uninstalled httpx-0.26.0\n",
      "Successfully installed httpx-0.27.2 langchain-ollama-0.2.0 ollama-0.3.3\n",
      "Note: you may need to restart the kernel to use updated packages.\n"
     ]
    }
   ],
   "source": [
    "pip install -U langchain-ollama"
   ]
  },
  {
   "cell_type": "code",
   "execution_count": null,
   "id": "5eb0fa4c",
   "metadata": {},
   "outputs": [],
   "source": []
  }
 ],
 "metadata": {
  "kernelspec": {
   "display_name": "Python 3 (ipykernel)",
   "language": "python",
   "name": "python3"
  },
  "language_info": {
   "codemirror_mode": {
    "name": "ipython",
    "version": 3
   },
   "file_extension": ".py",
   "mimetype": "text/x-python",
   "name": "python",
   "nbconvert_exporter": "python",
   "pygments_lexer": "ipython3",
   "version": "3.9.10"
  }
 },
 "nbformat": 4,
 "nbformat_minor": 5
}
