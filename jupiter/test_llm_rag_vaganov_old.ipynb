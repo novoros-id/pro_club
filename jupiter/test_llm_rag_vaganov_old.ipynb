{
 "cells": [
  {
   "cell_type": "markdown",
   "id": "9e113d51",
   "metadata": {},
   "source": [
    "https://developers.sber.ru/docs/ru/gigachat/sdk/guides/local-llms?ysclid=lvyap08s4s738058876"
   ]
  },
  {
   "cell_type": "markdown",
   "id": "34a99c63",
   "metadata": {},
   "source": [
    "ollama run llama3"
   ]
  },
  {
   "cell_type": "code",
   "execution_count": 69,
   "id": "c42e24cc",
   "metadata": {},
   "outputs": [],
   "source": [
    "from langchain_community.llms import Ollama\n",
    "from langchain.callbacks.manager import CallbackManager\n",
    "from langchain.callbacks.streaming_stdout import StreamingStdOutCallbackHandler\n",
    "from langchain import PromptTemplate"
   ]
  },
  {
   "cell_type": "code",
   "execution_count": 70,
   "id": "3cbf1a3d",
   "metadata": {},
   "outputs": [],
   "source": [
    "from langchain.schema import HumanMessage\n"
   ]
  },
  {
   "cell_type": "code",
   "execution_count": 71,
   "id": "0d2c4034",
   "metadata": {},
   "outputs": [],
   "source": [
    "llm = Ollama(\n",
    "    model=\"llama3\", callback_manager=CallbackManager([StreamingStdOutCallbackHandler()]), temperature = \"0.1\"\n",
    ")"
   ]
  },
  {
   "cell_type": "markdown",
   "id": "20e8156b",
   "metadata": {},
   "source": [
    "# Простые вопросы"
   ]
  },
  {
   "cell_type": "code",
   "execution_count": 60,
   "id": "5f60b1d8",
   "metadata": {},
   "outputs": [
    {
     "name": "stdout",
     "output_type": "stream",
     "text": [
      "Москва (Moscow) - столица Российской Федерации."
     ]
    },
    {
     "data": {
      "text/plain": [
       "'Москва (Moscow) - столица Российской Федерации.'"
      ]
     },
     "execution_count": 60,
     "metadata": {},
     "output_type": "execute_result"
    }
   ],
   "source": [
    "llm.invoke('''Назови столицу России''')"
   ]
  },
  {
   "cell_type": "code",
   "execution_count": 75,
   "id": "e0f8d874",
   "metadata": {},
   "outputs": [
    {
     "name": "stdout",
     "output_type": "stream",
     "text": [
      "Вот как я решаю задачу:\n",
      "\n",
      "1. Умножаю числа на 100:\n",
      "\t* 9,9 = 990\n",
      "\t* 9,11 = 911\n",
      "2. Сравниваю:\n",
      "\t* 990 > 911\n",
      "\n",
      "Так что, ответ: 9,9 больше 9,11!"
     ]
    },
    {
     "data": {
      "text/plain": [
       "'Вот как я решаю задачу:\\n\\n1. Умножаю числа на 100:\\n\\t* 9,9 = 990\\n\\t* 9,11 = 911\\n2. Сравниваю:\\n\\t* 990 > 911\\n\\nТак что, ответ: 9,9 больше 9,11!'"
      ]
     },
     "execution_count": 75,
     "metadata": {},
     "output_type": "execute_result"
    }
   ],
   "source": [
    "llm.invoke('''Что больше 9,9 или 9,11? При сравнении сначала умножь числа на 100, а потом сравни. Учитывай, что 990 больше 911''')"
   ]
  },
  {
   "cell_type": "code",
   "execution_count": 61,
   "id": "b038f154",
   "metadata": {},
   "outputs": [
    {
     "name": "stdout",
     "output_type": "stream",
     "text": [
      "The translation of the word \"Бухгалтерия\" into English is:\n",
      "\n",
      "Accounting"
     ]
    },
    {
     "data": {
      "text/plain": [
       "'The translation of the word \"Бухгалтерия\" into English is:\\n\\nAccounting'"
      ]
     },
     "execution_count": 61,
     "metadata": {},
     "output_type": "execute_result"
    }
   ],
   "source": [
    "llm.invoke('''Переведи на английский язык слово Бухгалтерия''')"
   ]
  },
  {
   "cell_type": "code",
   "execution_count": 62,
   "id": "1b526a67",
   "metadata": {
    "scrolled": true
   },
   "outputs": [
    {
     "name": "stdout",
     "output_type": "stream",
     "text": [
      "Ответ на русском языке:\n",
      "\n",
      "Нужно создать отдельный отчет \"Overdue Open Commitment\" в подсистему \"Внеоборотные активы - Отчеты по Внеоборотным активам\". В этом отчете необходимо выполнить следующие изменения:\n",
      "\n",
      "1. Перенести содержимое отчета в отдельную секцию.\n",
      "2. Изменить перечень подразделений на \"Подразделения WBS AUC\" (текущий перечень - \"WBS MI\").\n",
      "3. Выполнить фильтрацию по аналитике статьи расходов \"на стоимость внеоборотного актива\" и удалить другие отборы, которые есть в отчете сейчас."
     ]
    },
    {
     "data": {
      "text/plain": [
       "'Ответ на русском языке:\\n\\nНужно создать отдельный отчет \"Overdue Open Commitment\" в подсистему \"Внеоборотные активы - Отчеты по Внеоборотным активам\". В этом отчете необходимо выполнить следующие изменения:\\n\\n1. Перенести содержимое отчета в отдельную секцию.\\n2. Изменить перечень подразделений на \"Подразделения WBS AUC\" (текущий перечень - \"WBS MI\").\\n3. Выполнить фильтрацию по аналитике статьи расходов \"на стоимость внеоборотного актива\" и удалить другие отборы, которые есть в отчете сейчас.'"
      ]
     },
     "execution_count": 62,
     "metadata": {},
     "output_type": "execute_result"
    }
   ],
   "source": [
    "llm.invoke('''Сократи текст, ответ напиши на русском языке: \n",
    "\n",
    "\"Необходимо скопировать (сделать отдельный отчет) Отчет Overdue Open Commitment в\n",
    "Подсистему Внеоборотные активы – Отчеты по Внеоборотным активам\n",
    "2 В Отчет необходимо внести изменение и поменять перечень подразделений на\n",
    "Подразделения WBS AUC (сейчас там WBS MI)\n",
    "3 Необходимо сделать отбор по аналитике статья расходов: «на стоимость внеоборотного\n",
    "атива» (сейчас в отчете другие отборы по статьям – их надо убрать)\"\n",
    "\n",
    "\n",
    "''')"
   ]
  },
  {
   "cell_type": "code",
   "execution_count": 63,
   "id": "c8659417",
   "metadata": {},
   "outputs": [
    {
     "name": "stdout",
     "output_type": "stream",
     "text": [
      "Вот интересный вопрос!\n",
      "\n",
      "Для ответа, нам нужно знать объем чайника. Обычно, чайники имеют объем от 0,5 до 1 литра.\n",
      "\n",
      "Мыши - это маленькие животные, и их размеры могут варьироваться в зависимости от породы и возраста. Средний размер мыши составляет около 15-20 см в длину и 5-7 см в высоту.\n",
      "\n",
      "Пусть мы предположим, что мыши имеют средний размер. В этом случае, можно оценить, сколько мышей может поместиться в чайнике.\n",
      "\n",
      "Давайте рассмотрим два сценария:\n",
      "\n",
      "1. Чайник имеет объем 0,5 литра (500 мл). В этом случае, мыши могут занимать около 10-15 см³ каждый. Считая средний размер мыши, можно оценить, что в чайнике может поместиться не более 30-40 мышей.\n",
      "2. Чайник имеет объем 1 литра (1000 мл). В этом случае, мыши могут занимать около 20-25 см³ каждый. Считая средний размер мыши, можно оценить, что в чайнике может поместиться не более 40-50 мышей.\n",
      "\n",
      "Таким образом, ответ на вопрос: в двух чайниках (общий объем - 2 литра) может поместиться не более 60-100 мышей. Однако, это только приблизительная оценка, и реальное количество мышей, которое может поместиться в чайнике, зависит от размеров мыши и чайника.\n",
      "\n",
      "Вот ответ на русском языке: В двух чайниках (общий объем - 2 литра) может поместиться не более 60-100 мышей."
     ]
    },
    {
     "data": {
      "text/plain": [
       "'Вот интересный вопрос!\\n\\nДля ответа, нам нужно знать объем чайника. Обычно, чайники имеют объем от 0,5 до 1 литра.\\n\\nМыши - это маленькие животные, и их размеры могут варьироваться в зависимости от породы и возраста. Средний размер мыши составляет около 15-20 см в длину и 5-7 см в высоту.\\n\\nПусть мы предположим, что мыши имеют средний размер. В этом случае, можно оценить, сколько мышей может поместиться в чайнике.\\n\\nДавайте рассмотрим два сценария:\\n\\n1. Чайник имеет объем 0,5 литра (500 мл). В этом случае, мыши могут занимать около 10-15 см³ каждый. Считая средний размер мыши, можно оценить, что в чайнике может поместиться не более 30-40 мышей.\\n2. Чайник имеет объем 1 литра (1000 мл). В этом случае, мыши могут занимать около 20-25 см³ каждый. Считая средний размер мыши, можно оценить, что в чайнике может поместиться не более 40-50 мышей.\\n\\nТаким образом, ответ на вопрос: в двух чайниках (общий объем - 2 литра) может поместиться не более 60-100 мышей. Однако, это только приблизительная оценка, и реальное количество мышей, которое может поместиться в чайнике, зависит от размеров мыши и чайника.\\n\\nВот ответ на русском языке: В двух чайниках (общий объем - 2 литра) может поместиться не более 60-100 мышей.'"
      ]
     },
     "execution_count": 63,
     "metadata": {},
     "output_type": "execute_result"
    }
   ],
   "source": [
    "llm.invoke('''Сколько мышей помещается в двух чайниках? Ответ дай на русском языке''')"
   ]
  },
  {
   "cell_type": "code",
   "execution_count": 64,
   "id": "bed90302",
   "metadata": {},
   "outputs": [
    {
     "name": "stdout",
     "output_type": "stream",
     "text": [
      "Проблема классическая!\n",
      "\n",
      "Ответ: десять мышей.\n",
      "\n",
      "Два чайника - это два раза пять мышей, то есть десять мышей."
     ]
    },
    {
     "data": {
      "text/plain": [
       "'Проблема классическая!\\n\\nОтвет: десять мышей.\\n\\nДва чайника - это два раза пять мышей, то есть десять мышей.'"
      ]
     },
     "execution_count": 64,
     "metadata": {},
     "output_type": "execute_result"
    }
   ],
   "source": [
    "llm.invoke('''В одном чайнике помещается пять мышей. Сколько мышей помещается в двух чайниках?''')"
   ]
  },
  {
   "cell_type": "code",
   "execution_count": 65,
   "id": "3a15172b",
   "metadata": {},
   "outputs": [
    {
     "name": "stdout",
     "output_type": "stream",
     "text": [
      "Не знаю"
     ]
    },
    {
     "data": {
      "text/plain": [
       "'Не знаю'"
      ]
     },
     "execution_count": 65,
     "metadata": {},
     "output_type": "execute_result"
    }
   ],
   "source": [
    "llm.invoke('''Кому подарили заячий тулупчик? Отвечай на русском языке. Если не знаешь, ответь Не знаю''')"
   ]
  },
  {
   "cell_type": "markdown",
   "id": "8d69a20b",
   "metadata": {},
   "source": [
    "# RAG вопросы"
   ]
  },
  {
   "cell_type": "code",
   "execution_count": 49,
   "id": "0d6240ed",
   "metadata": {},
   "outputs": [
    {
     "name": "stdout",
     "output_type": "stream",
     "text": [
      "Total documents: 16\n"
     ]
    }
   ],
   "source": [
    "from langchain.document_loaders import PyPDFLoader\n",
    "from langchain.text_splitter import (\n",
    "    RecursiveCharacterTextSplitter,\n",
    ")\n",
    "from chromadb.config import Settings\n",
    "from langchain.vectorstores import Chroma\n",
    "\n",
    "from langchain.embeddings import HuggingFaceEmbeddings\n",
    "\n",
    "# Loader\n",
    "loader = PyPDFLoader(\"The_Daughter_of_The_Commandant.pdf\")\n",
    "documents = loader.load()\n",
    "text_splitter = RecursiveCharacterTextSplitter(\n",
    "    chunk_size=1000,\n",
    "    chunk_overlap=200,\n",
    ")\n",
    "documents = text_splitter.split_documents(documents)\n",
    "print(f\"Total documents: {len(documents)}\")\n",
    "\n",
    "\n",
    "# Если у вас нет видеокарты, укажите 'device': 'cpu'\n",
    "hf_embeddings_model = HuggingFaceEmbeddings(\n",
    "    model_name=\"cointegrated/LaBSE-en-ru\", model_kwargs={\"device\": \"cpu\"}\n",
    ")\n",
    "\n",
    "#  Загрузка в баз\n",
    "db = Chroma.from_documents(\n",
    "    documents,\n",
    "    hf_embeddings_model,\n",
    "    client_settings=Settings(anonymized_telemetry=False),\n",
    ")\n"
   ]
  },
  {
   "cell_type": "code",
   "execution_count": 50,
   "id": "bedc3d93",
   "metadata": {},
   "outputs": [],
   "source": [
    "prompt = \"Кому подарили заячий тулупчик? Отвечай на русском языке.\""
   ]
  },
  {
   "cell_type": "code",
   "execution_count": 66,
   "id": "79212d2d",
   "metadata": {},
   "outputs": [
    {
     "name": "stdout",
     "output_type": "stream",
     "text": [
      "Вожатый! Вожатый получил заячий тулупчик от Гринева."
     ]
    },
    {
     "data": {
      "text/plain": [
       "'Вожатый! Вожатый получил заячий тулупчик от Гринева.'"
      ]
     },
     "execution_count": 66,
     "metadata": {},
     "output_type": "execute_result"
    }
   ],
   "source": [
    "data = db.similarity_search(prompt,k=4)\n",
    "question = f\"Используя эти данные: {data}. Ответь на этот запрос  на русском языке: {prompt}\"\n",
    "llm.invoke([HumanMessage(content=question)])\n"
   ]
  },
  {
   "cell_type": "code",
   "execution_count": 30,
   "id": "8e058c53",
   "metadata": {},
   "outputs": [
    {
     "name": "stdout",
     "output_type": "stream",
     "text": [
      "                                             question\n",
      "0                     Кого убили раздетой на крыльце?\n",
      "1                 Где Маша остановилась в Петербурге?\n",
      "2          Почему Гринев и Савельич сбились с дороги?\n",
      "3         Кто издевался над Машей и морил ее голодом?\n",
      "4        Куда приговорили отправить Гринева в ссылку?\n",
      "5           Сколько детей было в семье Петра Гринева?\n",
      "6                       Кто воспитывал Петра Гринева?\n",
      "7   Сколько казаков попросил Гринев, чтобы очистит...\n",
      "8   Как далеко находилась от города Белогорская кр...\n",
      "9                         Как звали дочку коменданта?\n",
      "10                         Что Петя подарил вожатому?\n",
      "11                   Какое напутствие дал Петру отец?\n",
      "12  Кого Пугачев оставил комендантом Белогорской к...\n",
      "13               Почему Швабрина перевели в крепость?\n",
      "14          Кого просил пощадить Савельич у Пугачева?\n"
     ]
    }
   ],
   "source": [
    "import pandas as pd\n",
    "\n",
    "df = pd.read_csv(\"https://stepik.org/media/attachments/lesson/1084288/pushkin_questions.csv\")\n",
    "print(df)"
   ]
  },
  {
   "cell_type": "markdown",
   "id": "5b169305",
   "metadata": {},
   "source": [
    "# RAG вариант 2"
   ]
  },
  {
   "cell_type": "code",
   "execution_count": 57,
   "id": "089c11f1",
   "metadata": {},
   "outputs": [],
   "source": [
    "retriever = db.as_retriever(\n",
    "    search_type=\"similarity\",  # тип поиска похожих документов\n",
    "    k=4,  # количество возвращаемых документов (Default: 4)\n",
    "    score_threshold=None,  # минимальный порог для поиска \"similarity_score_threshold\"\n",
    ")"
   ]
  },
  {
   "cell_type": "code",
   "execution_count": 69,
   "id": "41757a88",
   "metadata": {},
   "outputs": [
    {
     "name": "stdout",
     "output_type": "stream",
     "text": [
      "Петра не подаривал вожатому ничего, потому что вожатым был Пугачев, а Петра не знал о его истинной личности. В главе 8 рассказывается о том, как Пугачев оставляет Гринева без внимания и наказания, а также подаривает ему лошадь и шубу со своего плеча."
     ]
    },
    {
     "data": {
      "text/plain": [
       "'Петра не подаривал вожатому ничего, потому что вожатым был Пугачев, а Петра не знал о его истинной личности. В главе 8 рассказывается о том, как Пугачев оставляет Гринева без внимания и наказания, а также подаривает ему лошадь и шубу со своего плеча.'"
      ]
     },
     "execution_count": 69,
     "metadata": {},
     "output_type": "execute_result"
    }
   ],
   "source": [
    "from langchain.schema import StrOutputParser\n",
    "from langchain_core.prompts import ChatPromptTemplate\n",
    "from langchain_core.runnables import RunnablePassthrough\n",
    "\n",
    "# Создаём простой шаблон\n",
    "template = \"\"\"\n",
    "Отвечай на вопрос по русски основываясь только на контексте указанном ниже:\n",
    "\n",
    "{context}\n",
    "\n",
    "Question: {question}\n",
    "\"\"\"\n",
    "# Создаём промпт из шаблона\n",
    "prompt_2 = ChatPromptTemplate.from_template(template)\n",
    "\n",
    "\n",
    "# Объявляем функцию, которая будет собирать строку из полученных документов\n",
    "def format_docs(docs):\n",
    "    return \"\\n\\n\".join([d.page_content for d in docs])\n",
    "\n",
    "\n",
    "# Создаём цепочку\n",
    "chain = (\n",
    "    {\"context\": retriever | format_docs, \"question\": RunnablePassthrough()}\n",
    "    | prompt_2\n",
    "    | llm\n",
    "    | StrOutputParser()\n",
    ")\n",
    "\n",
    "chain.invoke(\"Что Петя подарил вожатому?\")"
   ]
  },
  {
   "cell_type": "markdown",
   "id": "5434b5c4",
   "metadata": {},
   "source": [
    "# Обращение к 1С (агенты)"
   ]
  },
  {
   "cell_type": "code",
   "execution_count": 67,
   "id": "655d5fc6",
   "metadata": {},
   "outputs": [
    {
     "name": "stdout",
     "output_type": "stream",
     "text": [
      "Вот извлеченная информация:\n",
      "\n",
      "Номер счета числом: 10\n",
      "\n",
      "Отбор: по\n",
      "\n",
      "Слово \"Шайбам\" в именительном падеже и единственное число: Шайба"
     ]
    },
    {
     "data": {
      "text/plain": [
       "'Вот извлеченная информация:\\n\\nНомер счета числом: 10\\n\\nОтбор: по\\n\\nСлово \"Шайбам\" в именительном падеже и единственное число: Шайба'"
      ]
     },
     "execution_count": 67,
     "metadata": {},
     "output_type": "execute_result"
    }
   ],
   "source": [
    "llm.invoke('''Из следующего текста извлеки информацию. Ответ представь на русском языке:\n",
    "\n",
    "schet: После или перед словом счет или счету указывается номер счета, он может быть указан числом или прописью.\n",
    "Укажи номер счета числом.\n",
    "\n",
    "otbor: Если в тексте указан отбор, например, пользователь может написать Отбор или по, то после этого указано слово по чему необходимо сделать отбор\n",
    "Переведи это слово в именительной падеж и единственное число\n",
    "\n",
    "\n",
    "text: Сформируй остатки по счету десять с отбором по Шайбам''')"
   ]
  },
  {
   "cell_type": "code",
   "execution_count": 54,
   "id": "d981f6ce",
   "metadata": {},
   "outputs": [],
   "source": [
    "from langchain.agents import tool\n",
    "from langchain.agents import initialize_agent"
   ]
  },
  {
   "cell_type": "code",
   "execution_count": 55,
   "id": "69acef4c",
   "metadata": {},
   "outputs": [],
   "source": [
    "@tool\n",
    "def get_docements_info(word: str) -> str:\n",
    "    \"\"\"Отвечает на вопрос, какое количество документов было создано\"\"\" # добавляем docstring\n",
    "    return \"Было создано Х документов\"\n",
    "\n",
    "@tool\n",
    "def get__balance_money(word: str) -> str:\n",
    "    \"\"\"Отвечает на вопрос об остатке денежных средств\"\"\" # добавляем docstring\n",
    "    return \"Остаток денежных средств на текущую дату 1 000 000 000 рублей\"\n",
    "\n",
    "@tool\n",
    "def get_pay_contragent(word: str) -> str:\n",
    "    \"\"\"Отвечает когда была оплата по контрегенту\"\"\" # добавляем docstring\n",
    "    return \"Последняя оплата по контрагенту Рога и Копыта была три дня назад в сумме 100 рублей\"\n",
    "\n",
    "@tool\n",
    "def get_information(word: str) -> str:\n",
    "    \"\"\"Отвечает если указано ОСВ, оборотка, оборотно-сальдовая ведомость\"\"\" # добавляем docstring\n",
    "    return \"Открывается ОСВ по счету\"\n",
    "\n",
    "@tool\n",
    "def get_ptu(word: str) -> str:\n",
    "    \"\"\"Отвечает если указано ПТУ, поступление товаров и услуг, поступление\"\"\" # добавляем docstring\n",
    "    return \"Открывается новый документ ПТУ\"\n",
    "\n",
    "tools = [get_docements_info, get__balance_money, get_pay_contragent, get_information, get_ptu]"
   ]
  },
  {
   "cell_type": "code",
   "execution_count": 56,
   "id": "2622cccd",
   "metadata": {},
   "outputs": [],
   "source": [
    "agent = initialize_agent(\n",
    "    tools=tools,\n",
    "    llm=llm,\n",
    "    verbose=True,\n",
    "    early_stopping_method = 'generate'\n",
    ")"
   ]
  },
  {
   "cell_type": "code",
   "execution_count": 68,
   "id": "66c9604e",
   "metadata": {},
   "outputs": [
    {
     "name": "stdout",
     "output_type": "stream",
     "text": [
      "\n",
      "\n",
      "\u001b[1m> Entering new AgentExecutor chain...\u001b[0m\n",
      "Let's create a PTO (Поступление товаров и услуг).\n",
      "\n",
      "Thought: To create a PTO, we need to use the `get_ptu` function.\n",
      "\n",
      "Action: get_ptu\n",
      "Action Input: None (no input required\u001b[32;1m\u001b[1;3mLet's create a PTO (Поступление товаров и услуг).\n",
      "\n",
      "Thought: To create a PTO, we need to use the `get_ptu` function.\n",
      "\n",
      "Action: get_ptu\n",
      "Action Input: None (no input required\u001b[0m\n",
      "Observation: \u001b[33;1m\u001b[1;3mОткрывается новый документ ПТУ\u001b[0m\n",
      "Thought:Let's continue!\n",
      "\n",
      "Thought: The new document has been opened, now we need to fill it with some information.\n",
      "Action: None (just observing the result"
     ]
    },
    {
     "ename": "ValueError",
     "evalue": "An output parsing error occurred. In order to pass this error back to the agent and have it try again, pass `handle_parsing_errors=True` to the AgentExecutor. This is the error: Could not parse LLM output: `Let's continue!\n\nThought: The new document has been opened, now we need to fill it with some information.\nAction: None (just observing the result`",
     "output_type": "error",
     "traceback": [
      "\u001b[0;31m---------------------------------------------------------------------------\u001b[0m",
      "\u001b[0;31mOutputParserException\u001b[0m                     Traceback (most recent call last)",
      "File \u001b[0;32m~/miniforge3/lib/python3.9/site-packages/langchain/agents/agent.py:1166\u001b[0m, in \u001b[0;36mAgentExecutor._iter_next_step\u001b[0;34m(self, name_to_tool_map, color_mapping, inputs, intermediate_steps, run_manager)\u001b[0m\n\u001b[1;32m   1165\u001b[0m     \u001b[38;5;66;03m# Call the LLM to see what to do.\u001b[39;00m\n\u001b[0;32m-> 1166\u001b[0m     output \u001b[38;5;241m=\u001b[39m \u001b[38;5;28;43mself\u001b[39;49m\u001b[38;5;241;43m.\u001b[39;49m\u001b[43magent\u001b[49m\u001b[38;5;241;43m.\u001b[39;49m\u001b[43mplan\u001b[49m\u001b[43m(\u001b[49m\n\u001b[1;32m   1167\u001b[0m \u001b[43m        \u001b[49m\u001b[43mintermediate_steps\u001b[49m\u001b[43m,\u001b[49m\n\u001b[1;32m   1168\u001b[0m \u001b[43m        \u001b[49m\u001b[43mcallbacks\u001b[49m\u001b[38;5;241;43m=\u001b[39;49m\u001b[43mrun_manager\u001b[49m\u001b[38;5;241;43m.\u001b[39;49m\u001b[43mget_child\u001b[49m\u001b[43m(\u001b[49m\u001b[43m)\u001b[49m\u001b[43m \u001b[49m\u001b[38;5;28;43;01mif\u001b[39;49;00m\u001b[43m \u001b[49m\u001b[43mrun_manager\u001b[49m\u001b[43m \u001b[49m\u001b[38;5;28;43;01melse\u001b[39;49;00m\u001b[43m \u001b[49m\u001b[38;5;28;43;01mNone\u001b[39;49;00m\u001b[43m,\u001b[49m\n\u001b[1;32m   1169\u001b[0m \u001b[43m        \u001b[49m\u001b[38;5;241;43m*\u001b[39;49m\u001b[38;5;241;43m*\u001b[39;49m\u001b[43minputs\u001b[49m\u001b[43m,\u001b[49m\n\u001b[1;32m   1170\u001b[0m \u001b[43m    \u001b[49m\u001b[43m)\u001b[49m\n\u001b[1;32m   1171\u001b[0m \u001b[38;5;28;01mexcept\u001b[39;00m OutputParserException \u001b[38;5;28;01mas\u001b[39;00m e:\n",
      "File \u001b[0;32m~/miniforge3/lib/python3.9/site-packages/langchain/agents/agent.py:731\u001b[0m, in \u001b[0;36mAgent.plan\u001b[0;34m(self, intermediate_steps, callbacks, **kwargs)\u001b[0m\n\u001b[1;32m    730\u001b[0m full_output \u001b[38;5;241m=\u001b[39m \u001b[38;5;28mself\u001b[39m\u001b[38;5;241m.\u001b[39mllm_chain\u001b[38;5;241m.\u001b[39mpredict(callbacks\u001b[38;5;241m=\u001b[39mcallbacks, \u001b[38;5;241m*\u001b[39m\u001b[38;5;241m*\u001b[39mfull_inputs)\n\u001b[0;32m--> 731\u001b[0m \u001b[38;5;28;01mreturn\u001b[39;00m \u001b[38;5;28;43mself\u001b[39;49m\u001b[38;5;241;43m.\u001b[39;49m\u001b[43moutput_parser\u001b[49m\u001b[38;5;241;43m.\u001b[39;49m\u001b[43mparse\u001b[49m\u001b[43m(\u001b[49m\u001b[43mfull_output\u001b[49m\u001b[43m)\u001b[49m\n",
      "File \u001b[0;32m~/miniforge3/lib/python3.9/site-packages/langchain/agents/mrkl/output_parser.py:76\u001b[0m, in \u001b[0;36mMRKLOutputParser.parse\u001b[0;34m(self, text)\u001b[0m\n\u001b[1;32m     73\u001b[0m \u001b[38;5;28;01melif\u001b[39;00m \u001b[38;5;129;01mnot\u001b[39;00m re\u001b[38;5;241m.\u001b[39msearch(\n\u001b[1;32m     74\u001b[0m     \u001b[38;5;124mr\u001b[39m\u001b[38;5;124m\"\u001b[39m\u001b[38;5;124m[\u001b[39m\u001b[38;5;124m\\\u001b[39m\u001b[38;5;124ms]*Action\u001b[39m\u001b[38;5;124m\\\u001b[39m\u001b[38;5;124ms*\u001b[39m\u001b[38;5;124m\\\u001b[39m\u001b[38;5;124md*\u001b[39m\u001b[38;5;124m\\\u001b[39m\u001b[38;5;124ms*Input\u001b[39m\u001b[38;5;124m\\\u001b[39m\u001b[38;5;124ms*\u001b[39m\u001b[38;5;124m\\\u001b[39m\u001b[38;5;124md*\u001b[39m\u001b[38;5;124m\\\u001b[39m\u001b[38;5;124ms*:[\u001b[39m\u001b[38;5;124m\\\u001b[39m\u001b[38;5;124ms]*(.*)\u001b[39m\u001b[38;5;124m\"\u001b[39m, text, re\u001b[38;5;241m.\u001b[39mDOTALL\n\u001b[1;32m     75\u001b[0m ):\n\u001b[0;32m---> 76\u001b[0m     \u001b[38;5;28;01mraise\u001b[39;00m OutputParserException(\n\u001b[1;32m     77\u001b[0m         \u001b[38;5;124mf\u001b[39m\u001b[38;5;124m\"\u001b[39m\u001b[38;5;124mCould not parse LLM output: `\u001b[39m\u001b[38;5;132;01m{\u001b[39;00mtext\u001b[38;5;132;01m}\u001b[39;00m\u001b[38;5;124m`\u001b[39m\u001b[38;5;124m\"\u001b[39m,\n\u001b[1;32m     78\u001b[0m         observation\u001b[38;5;241m=\u001b[39mMISSING_ACTION_INPUT_AFTER_ACTION_ERROR_MESSAGE,\n\u001b[1;32m     79\u001b[0m         llm_output\u001b[38;5;241m=\u001b[39mtext,\n\u001b[1;32m     80\u001b[0m         send_to_llm\u001b[38;5;241m=\u001b[39m\u001b[38;5;28;01mTrue\u001b[39;00m,\n\u001b[1;32m     81\u001b[0m     )\n\u001b[1;32m     82\u001b[0m \u001b[38;5;28;01melse\u001b[39;00m:\n",
      "\u001b[0;31mOutputParserException\u001b[0m: Could not parse LLM output: `Let's continue!\n\nThought: The new document has been opened, now we need to fill it with some information.\nAction: None (just observing the result`",
      "\nDuring handling of the above exception, another exception occurred:\n",
      "\u001b[0;31mValueError\u001b[0m                                Traceback (most recent call last)",
      "Input \u001b[0;32mIn [68]\u001b[0m, in \u001b[0;36m<cell line: 1>\u001b[0;34m()\u001b[0m\n\u001b[0;32m----> 1\u001b[0m \u001b[43magent\u001b[49m\u001b[43m(\u001b[49m\u001b[38;5;124;43m\"\u001b[39;49m\u001b[38;5;124;43mсоздай ПТУ\u001b[39;49m\u001b[38;5;124;43m\"\u001b[39;49m\u001b[43m)\u001b[49m\n",
      "File \u001b[0;32m~/miniforge3/lib/python3.9/site-packages/langchain_core/_api/deprecation.py:148\u001b[0m, in \u001b[0;36mdeprecated.<locals>.deprecate.<locals>.warning_emitting_wrapper\u001b[0;34m(*args, **kwargs)\u001b[0m\n\u001b[1;32m    146\u001b[0m     warned \u001b[38;5;241m=\u001b[39m \u001b[38;5;28;01mTrue\u001b[39;00m\n\u001b[1;32m    147\u001b[0m     emit_warning()\n\u001b[0;32m--> 148\u001b[0m \u001b[38;5;28;01mreturn\u001b[39;00m \u001b[43mwrapped\u001b[49m\u001b[43m(\u001b[49m\u001b[38;5;241;43m*\u001b[39;49m\u001b[43margs\u001b[49m\u001b[43m,\u001b[49m\u001b[43m \u001b[49m\u001b[38;5;241;43m*\u001b[39;49m\u001b[38;5;241;43m*\u001b[39;49m\u001b[43mkwargs\u001b[49m\u001b[43m)\u001b[49m\n",
      "File \u001b[0;32m~/miniforge3/lib/python3.9/site-packages/langchain/chains/base.py:378\u001b[0m, in \u001b[0;36mChain.__call__\u001b[0;34m(self, inputs, return_only_outputs, callbacks, tags, metadata, run_name, include_run_info)\u001b[0m\n\u001b[1;32m    346\u001b[0m \u001b[38;5;250m\u001b[39m\u001b[38;5;124;03m\"\"\"Execute the chain.\u001b[39;00m\n\u001b[1;32m    347\u001b[0m \n\u001b[1;32m    348\u001b[0m \u001b[38;5;124;03mArgs:\u001b[39;00m\n\u001b[0;32m   (...)\u001b[0m\n\u001b[1;32m    369\u001b[0m \u001b[38;5;124;03m        `Chain.output_keys`.\u001b[39;00m\n\u001b[1;32m    370\u001b[0m \u001b[38;5;124;03m\"\"\"\u001b[39;00m\n\u001b[1;32m    371\u001b[0m config \u001b[38;5;241m=\u001b[39m {\n\u001b[1;32m    372\u001b[0m     \u001b[38;5;124m\"\u001b[39m\u001b[38;5;124mcallbacks\u001b[39m\u001b[38;5;124m\"\u001b[39m: callbacks,\n\u001b[1;32m    373\u001b[0m     \u001b[38;5;124m\"\u001b[39m\u001b[38;5;124mtags\u001b[39m\u001b[38;5;124m\"\u001b[39m: tags,\n\u001b[1;32m    374\u001b[0m     \u001b[38;5;124m\"\u001b[39m\u001b[38;5;124mmetadata\u001b[39m\u001b[38;5;124m\"\u001b[39m: metadata,\n\u001b[1;32m    375\u001b[0m     \u001b[38;5;124m\"\u001b[39m\u001b[38;5;124mrun_name\u001b[39m\u001b[38;5;124m\"\u001b[39m: run_name,\n\u001b[1;32m    376\u001b[0m }\n\u001b[0;32m--> 378\u001b[0m \u001b[38;5;28;01mreturn\u001b[39;00m \u001b[38;5;28;43mself\u001b[39;49m\u001b[38;5;241;43m.\u001b[39;49m\u001b[43minvoke\u001b[49m\u001b[43m(\u001b[49m\n\u001b[1;32m    379\u001b[0m \u001b[43m    \u001b[49m\u001b[43minputs\u001b[49m\u001b[43m,\u001b[49m\n\u001b[1;32m    380\u001b[0m \u001b[43m    \u001b[49m\u001b[43mcast\u001b[49m\u001b[43m(\u001b[49m\u001b[43mRunnableConfig\u001b[49m\u001b[43m,\u001b[49m\u001b[43m \u001b[49m\u001b[43m{\u001b[49m\u001b[43mk\u001b[49m\u001b[43m:\u001b[49m\u001b[43m \u001b[49m\u001b[43mv\u001b[49m\u001b[43m \u001b[49m\u001b[38;5;28;43;01mfor\u001b[39;49;00m\u001b[43m \u001b[49m\u001b[43mk\u001b[49m\u001b[43m,\u001b[49m\u001b[43m \u001b[49m\u001b[43mv\u001b[49m\u001b[43m \u001b[49m\u001b[38;5;129;43;01min\u001b[39;49;00m\u001b[43m \u001b[49m\u001b[43mconfig\u001b[49m\u001b[38;5;241;43m.\u001b[39;49m\u001b[43mitems\u001b[49m\u001b[43m(\u001b[49m\u001b[43m)\u001b[49m\u001b[43m \u001b[49m\u001b[38;5;28;43;01mif\u001b[39;49;00m\u001b[43m \u001b[49m\u001b[43mv\u001b[49m\u001b[43m \u001b[49m\u001b[38;5;129;43;01mis\u001b[39;49;00m\u001b[43m \u001b[49m\u001b[38;5;129;43;01mnot\u001b[39;49;00m\u001b[43m \u001b[49m\u001b[38;5;28;43;01mNone\u001b[39;49;00m\u001b[43m}\u001b[49m\u001b[43m)\u001b[49m\u001b[43m,\u001b[49m\n\u001b[1;32m    381\u001b[0m \u001b[43m    \u001b[49m\u001b[43mreturn_only_outputs\u001b[49m\u001b[38;5;241;43m=\u001b[39;49m\u001b[43mreturn_only_outputs\u001b[49m\u001b[43m,\u001b[49m\n\u001b[1;32m    382\u001b[0m \u001b[43m    \u001b[49m\u001b[43minclude_run_info\u001b[49m\u001b[38;5;241;43m=\u001b[39;49m\u001b[43minclude_run_info\u001b[49m\u001b[43m,\u001b[49m\n\u001b[1;32m    383\u001b[0m \u001b[43m\u001b[49m\u001b[43m)\u001b[49m\n",
      "File \u001b[0;32m~/miniforge3/lib/python3.9/site-packages/langchain/chains/base.py:163\u001b[0m, in \u001b[0;36mChain.invoke\u001b[0;34m(self, input, config, **kwargs)\u001b[0m\n\u001b[1;32m    161\u001b[0m \u001b[38;5;28;01mexcept\u001b[39;00m \u001b[38;5;167;01mBaseException\u001b[39;00m \u001b[38;5;28;01mas\u001b[39;00m e:\n\u001b[1;32m    162\u001b[0m     run_manager\u001b[38;5;241m.\u001b[39mon_chain_error(e)\n\u001b[0;32m--> 163\u001b[0m     \u001b[38;5;28;01mraise\u001b[39;00m e\n\u001b[1;32m    164\u001b[0m run_manager\u001b[38;5;241m.\u001b[39mon_chain_end(outputs)\n\u001b[1;32m    166\u001b[0m \u001b[38;5;28;01mif\u001b[39;00m include_run_info:\n",
      "File \u001b[0;32m~/miniforge3/lib/python3.9/site-packages/langchain/chains/base.py:153\u001b[0m, in \u001b[0;36mChain.invoke\u001b[0;34m(self, input, config, **kwargs)\u001b[0m\n\u001b[1;32m    150\u001b[0m \u001b[38;5;28;01mtry\u001b[39;00m:\n\u001b[1;32m    151\u001b[0m     \u001b[38;5;28mself\u001b[39m\u001b[38;5;241m.\u001b[39m_validate_inputs(inputs)\n\u001b[1;32m    152\u001b[0m     outputs \u001b[38;5;241m=\u001b[39m (\n\u001b[0;32m--> 153\u001b[0m         \u001b[38;5;28;43mself\u001b[39;49m\u001b[38;5;241;43m.\u001b[39;49m\u001b[43m_call\u001b[49m\u001b[43m(\u001b[49m\u001b[43minputs\u001b[49m\u001b[43m,\u001b[49m\u001b[43m \u001b[49m\u001b[43mrun_manager\u001b[49m\u001b[38;5;241;43m=\u001b[39;49m\u001b[43mrun_manager\u001b[49m\u001b[43m)\u001b[49m\n\u001b[1;32m    154\u001b[0m         \u001b[38;5;28;01mif\u001b[39;00m new_arg_supported\n\u001b[1;32m    155\u001b[0m         \u001b[38;5;28;01melse\u001b[39;00m \u001b[38;5;28mself\u001b[39m\u001b[38;5;241m.\u001b[39m_call(inputs)\n\u001b[1;32m    156\u001b[0m     )\n\u001b[1;32m    158\u001b[0m     final_outputs: Dict[\u001b[38;5;28mstr\u001b[39m, Any] \u001b[38;5;241m=\u001b[39m \u001b[38;5;28mself\u001b[39m\u001b[38;5;241m.\u001b[39mprep_outputs(\n\u001b[1;32m    159\u001b[0m         inputs, outputs, return_only_outputs\n\u001b[1;32m    160\u001b[0m     )\n\u001b[1;32m    161\u001b[0m \u001b[38;5;28;01mexcept\u001b[39;00m \u001b[38;5;167;01mBaseException\u001b[39;00m \u001b[38;5;28;01mas\u001b[39;00m e:\n",
      "File \u001b[0;32m~/miniforge3/lib/python3.9/site-packages/langchain/agents/agent.py:1432\u001b[0m, in \u001b[0;36mAgentExecutor._call\u001b[0;34m(self, inputs, run_manager)\u001b[0m\n\u001b[1;32m   1430\u001b[0m \u001b[38;5;66;03m# We now enter the agent loop (until it returns something).\u001b[39;00m\n\u001b[1;32m   1431\u001b[0m \u001b[38;5;28;01mwhile\u001b[39;00m \u001b[38;5;28mself\u001b[39m\u001b[38;5;241m.\u001b[39m_should_continue(iterations, time_elapsed):\n\u001b[0;32m-> 1432\u001b[0m     next_step_output \u001b[38;5;241m=\u001b[39m \u001b[38;5;28;43mself\u001b[39;49m\u001b[38;5;241;43m.\u001b[39;49m\u001b[43m_take_next_step\u001b[49m\u001b[43m(\u001b[49m\n\u001b[1;32m   1433\u001b[0m \u001b[43m        \u001b[49m\u001b[43mname_to_tool_map\u001b[49m\u001b[43m,\u001b[49m\n\u001b[1;32m   1434\u001b[0m \u001b[43m        \u001b[49m\u001b[43mcolor_mapping\u001b[49m\u001b[43m,\u001b[49m\n\u001b[1;32m   1435\u001b[0m \u001b[43m        \u001b[49m\u001b[43minputs\u001b[49m\u001b[43m,\u001b[49m\n\u001b[1;32m   1436\u001b[0m \u001b[43m        \u001b[49m\u001b[43mintermediate_steps\u001b[49m\u001b[43m,\u001b[49m\n\u001b[1;32m   1437\u001b[0m \u001b[43m        \u001b[49m\u001b[43mrun_manager\u001b[49m\u001b[38;5;241;43m=\u001b[39;49m\u001b[43mrun_manager\u001b[49m\u001b[43m,\u001b[49m\n\u001b[1;32m   1438\u001b[0m \u001b[43m    \u001b[49m\u001b[43m)\u001b[49m\n\u001b[1;32m   1439\u001b[0m     \u001b[38;5;28;01mif\u001b[39;00m \u001b[38;5;28misinstance\u001b[39m(next_step_output, AgentFinish):\n\u001b[1;32m   1440\u001b[0m         \u001b[38;5;28;01mreturn\u001b[39;00m \u001b[38;5;28mself\u001b[39m\u001b[38;5;241m.\u001b[39m_return(\n\u001b[1;32m   1441\u001b[0m             next_step_output, intermediate_steps, run_manager\u001b[38;5;241m=\u001b[39mrun_manager\n\u001b[1;32m   1442\u001b[0m         )\n",
      "File \u001b[0;32m~/miniforge3/lib/python3.9/site-packages/langchain/agents/agent.py:1138\u001b[0m, in \u001b[0;36mAgentExecutor._take_next_step\u001b[0;34m(self, name_to_tool_map, color_mapping, inputs, intermediate_steps, run_manager)\u001b[0m\n\u001b[1;32m   1129\u001b[0m \u001b[38;5;28;01mdef\u001b[39;00m \u001b[38;5;21m_take_next_step\u001b[39m(\n\u001b[1;32m   1130\u001b[0m     \u001b[38;5;28mself\u001b[39m,\n\u001b[1;32m   1131\u001b[0m     name_to_tool_map: Dict[\u001b[38;5;28mstr\u001b[39m, BaseTool],\n\u001b[0;32m   (...)\u001b[0m\n\u001b[1;32m   1135\u001b[0m     run_manager: Optional[CallbackManagerForChainRun] \u001b[38;5;241m=\u001b[39m \u001b[38;5;28;01mNone\u001b[39;00m,\n\u001b[1;32m   1136\u001b[0m ) \u001b[38;5;241m-\u001b[39m\u001b[38;5;241m>\u001b[39m Union[AgentFinish, List[Tuple[AgentAction, \u001b[38;5;28mstr\u001b[39m]]]:\n\u001b[1;32m   1137\u001b[0m     \u001b[38;5;28;01mreturn\u001b[39;00m \u001b[38;5;28mself\u001b[39m\u001b[38;5;241m.\u001b[39m_consume_next_step(\n\u001b[0;32m-> 1138\u001b[0m         [\n\u001b[1;32m   1139\u001b[0m             a\n\u001b[1;32m   1140\u001b[0m             \u001b[38;5;28;01mfor\u001b[39;00m a \u001b[38;5;129;01min\u001b[39;00m \u001b[38;5;28mself\u001b[39m\u001b[38;5;241m.\u001b[39m_iter_next_step(\n\u001b[1;32m   1141\u001b[0m                 name_to_tool_map,\n\u001b[1;32m   1142\u001b[0m                 color_mapping,\n\u001b[1;32m   1143\u001b[0m                 inputs,\n\u001b[1;32m   1144\u001b[0m                 intermediate_steps,\n\u001b[1;32m   1145\u001b[0m                 run_manager,\n\u001b[1;32m   1146\u001b[0m             )\n\u001b[1;32m   1147\u001b[0m         ]\n\u001b[1;32m   1148\u001b[0m     )\n",
      "File \u001b[0;32m~/miniforge3/lib/python3.9/site-packages/langchain/agents/agent.py:1138\u001b[0m, in \u001b[0;36m<listcomp>\u001b[0;34m(.0)\u001b[0m\n\u001b[1;32m   1129\u001b[0m \u001b[38;5;28;01mdef\u001b[39;00m \u001b[38;5;21m_take_next_step\u001b[39m(\n\u001b[1;32m   1130\u001b[0m     \u001b[38;5;28mself\u001b[39m,\n\u001b[1;32m   1131\u001b[0m     name_to_tool_map: Dict[\u001b[38;5;28mstr\u001b[39m, BaseTool],\n\u001b[0;32m   (...)\u001b[0m\n\u001b[1;32m   1135\u001b[0m     run_manager: Optional[CallbackManagerForChainRun] \u001b[38;5;241m=\u001b[39m \u001b[38;5;28;01mNone\u001b[39;00m,\n\u001b[1;32m   1136\u001b[0m ) \u001b[38;5;241m-\u001b[39m\u001b[38;5;241m>\u001b[39m Union[AgentFinish, List[Tuple[AgentAction, \u001b[38;5;28mstr\u001b[39m]]]:\n\u001b[1;32m   1137\u001b[0m     \u001b[38;5;28;01mreturn\u001b[39;00m \u001b[38;5;28mself\u001b[39m\u001b[38;5;241m.\u001b[39m_consume_next_step(\n\u001b[0;32m-> 1138\u001b[0m         [\n\u001b[1;32m   1139\u001b[0m             a\n\u001b[1;32m   1140\u001b[0m             \u001b[38;5;28;01mfor\u001b[39;00m a \u001b[38;5;129;01min\u001b[39;00m \u001b[38;5;28mself\u001b[39m\u001b[38;5;241m.\u001b[39m_iter_next_step(\n\u001b[1;32m   1141\u001b[0m                 name_to_tool_map,\n\u001b[1;32m   1142\u001b[0m                 color_mapping,\n\u001b[1;32m   1143\u001b[0m                 inputs,\n\u001b[1;32m   1144\u001b[0m                 intermediate_steps,\n\u001b[1;32m   1145\u001b[0m                 run_manager,\n\u001b[1;32m   1146\u001b[0m             )\n\u001b[1;32m   1147\u001b[0m         ]\n\u001b[1;32m   1148\u001b[0m     )\n",
      "File \u001b[0;32m~/miniforge3/lib/python3.9/site-packages/langchain/agents/agent.py:1177\u001b[0m, in \u001b[0;36mAgentExecutor._iter_next_step\u001b[0;34m(self, name_to_tool_map, color_mapping, inputs, intermediate_steps, run_manager)\u001b[0m\n\u001b[1;32m   1175\u001b[0m     raise_error \u001b[38;5;241m=\u001b[39m \u001b[38;5;28;01mFalse\u001b[39;00m\n\u001b[1;32m   1176\u001b[0m \u001b[38;5;28;01mif\u001b[39;00m raise_error:\n\u001b[0;32m-> 1177\u001b[0m     \u001b[38;5;28;01mraise\u001b[39;00m \u001b[38;5;167;01mValueError\u001b[39;00m(\n\u001b[1;32m   1178\u001b[0m         \u001b[38;5;124m\"\u001b[39m\u001b[38;5;124mAn output parsing error occurred. \u001b[39m\u001b[38;5;124m\"\u001b[39m\n\u001b[1;32m   1179\u001b[0m         \u001b[38;5;124m\"\u001b[39m\u001b[38;5;124mIn order to pass this error back to the agent and have it try \u001b[39m\u001b[38;5;124m\"\u001b[39m\n\u001b[1;32m   1180\u001b[0m         \u001b[38;5;124m\"\u001b[39m\u001b[38;5;124magain, pass `handle_parsing_errors=True` to the AgentExecutor. \u001b[39m\u001b[38;5;124m\"\u001b[39m\n\u001b[1;32m   1181\u001b[0m         \u001b[38;5;124mf\u001b[39m\u001b[38;5;124m\"\u001b[39m\u001b[38;5;124mThis is the error: \u001b[39m\u001b[38;5;132;01m{\u001b[39;00m\u001b[38;5;28mstr\u001b[39m(e)\u001b[38;5;132;01m}\u001b[39;00m\u001b[38;5;124m\"\u001b[39m\n\u001b[1;32m   1182\u001b[0m     )\n\u001b[1;32m   1183\u001b[0m text \u001b[38;5;241m=\u001b[39m \u001b[38;5;28mstr\u001b[39m(e)\n\u001b[1;32m   1184\u001b[0m \u001b[38;5;28;01mif\u001b[39;00m \u001b[38;5;28misinstance\u001b[39m(\u001b[38;5;28mself\u001b[39m\u001b[38;5;241m.\u001b[39mhandle_parsing_errors, \u001b[38;5;28mbool\u001b[39m):\n",
      "\u001b[0;31mValueError\u001b[0m: An output parsing error occurred. In order to pass this error back to the agent and have it try again, pass `handle_parsing_errors=True` to the AgentExecutor. This is the error: Could not parse LLM output: `Let's continue!\n\nThought: The new document has been opened, now we need to fill it with some information.\nAction: None (just observing the result`"
     ]
    }
   ],
   "source": [
    "agent(\"создай ПТУ\")"
   ]
  },
  {
   "cell_type": "markdown",
   "id": "a0699d71",
   "metadata": {},
   "source": [
    "# Пример промта 2"
   ]
  },
  {
   "cell_type": "code",
   "execution_count": 30,
   "id": "2e82f29f",
   "metadata": {},
   "outputs": [
    {
     "name": "stdout",
     "output_type": "stream",
     "text": [
      "1111\n"
     ]
    }
   ],
   "source": [
    "prompt = \"\"\"Это разговор с ИИ-помощником.\n",
    "Помощник обычно опирается на примеры.\n",
    "\n",
    "Examples:\n",
    "A + A = AA\n",
    "B + С = BC\n",
    "2 + 2 = 22\n",
    "\n",
    "User: 1 + 1?\n",
    "AI: \"\"\"\n",
    "\n",
    "print(llm.invoke(prompt))"
   ]
  },
  {
   "cell_type": "markdown",
   "id": "3e3e9a9f",
   "metadata": {},
   "source": [
    "# Пример промта 4"
   ]
  }
 ],
 "metadata": {
  "kernelspec": {
   "display_name": "Python 3 (ipykernel)",
   "language": "python",
   "name": "python3"
  },
  "language_info": {
   "codemirror_mode": {
    "name": "ipython",
    "version": 3
   },
   "file_extension": ".py",
   "mimetype": "text/x-python",
   "name": "python",
   "nbconvert_exporter": "python",
   "pygments_lexer": "ipython3",
   "version": "3.9.10"
  }
 },
 "nbformat": 4,
 "nbformat_minor": 5
}
